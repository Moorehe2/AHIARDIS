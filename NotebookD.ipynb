{
  "nbformat": 4,
  "nbformat_minor": 0,
  "metadata": {
    "colab": {
      "name": "NotebookD.ipynb",
      "provenance": [],
      "authorship_tag": "ABX9TyMhfG4E8qhQgPxg0mhdjwxr",
      "include_colab_link": true
    },
    "kernelspec": {
      "name": "python3",
      "display_name": "Python 3"
    },
    "language_info": {
      "name": "python"
    }
  },
  "cells": [
    {
      "cell_type": "markdown",
      "metadata": {
        "id": "view-in-github",
        "colab_type": "text"
      },
      "source": [
        "<a href=\"https://colab.research.google.com/github/Moorehe2/AHIARDIS/blob/main/NotebookD.ipynb\" target=\"_parent\"><img src=\"https://colab.research.google.com/assets/colab-badge.svg\" alt=\"Open In Colab\"/></a>"
      ]
    },
    {
      "cell_type": "markdown",
      "source": [
        "#Best Model"
      ],
      "metadata": {
        "id": "tiKiwJfWLCcA"
      }
    },
    {
      "cell_type": "code",
      "execution_count": null,
      "metadata": {
        "id": "YmVVJmFGKcLq"
      },
      "outputs": [],
      "source": [
        "best_model = load_model(filepath='models/cnn-parameters-improvement-23-0.91.model')"
      ]
    },
    {
      "cell_type": "code",
      "source": [
        "best_model.metrics_names"
      ],
      "metadata": {
        "id": "HpqSFUSMKnDH"
      },
      "execution_count": null,
      "outputs": []
    },
    {
      "cell_type": "code",
      "source": [
        "loss, acc = best_model.evaluate(x=X_test, y=y_test)"
      ],
      "metadata": {
        "id": "8ScktYlvKxcL"
      },
      "execution_count": null,
      "outputs": []
    },
    {
      "cell_type": "code",
      "source": [
        "print (f\"Test Loss = {loss}\")\n",
        "print (f\"Test Accuracy = {acc}\")"
      ],
      "metadata": {
        "id": "VFwOcGVgKzRo"
      },
      "execution_count": null,
      "outputs": []
    },
    {
      "cell_type": "code",
      "source": [
        "new_image = best_model.predict('insert image')"
      ],
      "metadata": {
        "id": "GV-FUKMfK6hC"
      },
      "execution_count": null,
      "outputs": []
    },
    {
      "cell_type": "code",
      "source": [
        "y_test_prob = best_model.predict(X_test)"
      ],
      "metadata": {
        "id": "4Afyj8p5LITu"
      },
      "execution_count": null,
      "outputs": []
    },
    {
      "cell_type": "markdown",
      "source": [
        ""
      ],
      "metadata": {
        "id": "dxdhTJJ1LBdx"
      }
    }
  ]
}
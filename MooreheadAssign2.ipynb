{
  "nbformat": 4,
  "nbformat_minor": 0,
  "metadata": {
    "colab": {
      "provenance": [],
      "history_visible": true,
      "authorship_tag": "ABX9TyN2b+5Ji6GtzwAdKdeYG4oj",
      "include_colab_link": true
    },
    "kernelspec": {
      "name": "python3",
      "display_name": "Python 3"
    },
    "language_info": {
      "name": "python"
    }
  },
  "cells": [
    {
      "cell_type": "markdown",
      "metadata": {
        "id": "view-in-github",
        "colab_type": "text"
      },
      "source": [
        "<a href=\"https://colab.research.google.com/github/Moorehe2/AHIARDIS/blob/main/MooreheadAssign2.ipynb\" target=\"_parent\"><img src=\"https://colab.research.google.com/assets/colab-badge.svg\" alt=\"Open In Colab\"/></a>"
      ]
    },
    {
      "cell_type": "code",
      "metadata": {
        "id": "GoSJQ__jUrAc",
        "colab": {
          "base_uri": "https://localhost:8080/"
        },
        "outputId": "6a2345b9-c2b6-4e94-c168-9beefce6e583"
      },
      "source": [
        "#!/usr/bin/env python3\n",
        "# -*- coding: utf-8 -*-\n",
        "\"\"\"\n",
        "Created on Mon Oct  5 18:06:48 2020\n",
        "\n",
        "@author: hantswilliams\n",
        "\"\"\"\n",
        "\n",
        "import pandas as pd \n",
        "import sqlalchemy\n",
        "from sqlalchemy import create_engine\n",
        "!pip install pymysql\n",
        "import pymysql\n",
        "\n",
        "\n",
        "fakeDataset = pd.DataFrame({'colors' : ['blue', 'purple', 'pink']})\n",
        "\n",
        "\n",
        "MYSQL_HOSTNAME = '20.62.193.224'\n",
        "MYSQL_USER = 'ardismoorehead'\n",
        "MYSQL_PASSWORD = 'ardismoorehead2021'\n",
        "MYSQL_DATABASE = 'ahi'\n",
        "\n",
        "connection_string = f'mysql+pymysql://{MYSQL_USER}:{MYSQL_PASSWORD}@{MYSQL_HOSTNAME}:3305/{MYSQL_DATABASE}'\n",
        "engine = create_engine(connection_string)\n",
        "\n",
        "TABLENAME = MYSQL_USER + 'fakeTableAssignment1'\n",
        "\n",
        "fakeDataset.to_sql(TABLENAME, con=engine)"
      ],
      "execution_count": null,
      "outputs": [
        {
          "output_type": "stream",
          "name": "stdout",
          "text": [
            "Collecting pymysql\n",
            "  Downloading PyMySQL-1.0.2-py3-none-any.whl (43 kB)\n",
            "\u001b[?25l\r\u001b[K     |███████▌                        | 10 kB 18.1 MB/s eta 0:00:01\r\u001b[K     |███████████████                 | 20 kB 20.2 MB/s eta 0:00:01\r\u001b[K     |██████████████████████▍         | 30 kB 18.2 MB/s eta 0:00:01\r\u001b[K     |██████████████████████████████  | 40 kB 15.4 MB/s eta 0:00:01\r\u001b[K     |████████████████████████████████| 43 kB 1.6 MB/s \n",
            "\u001b[?25hInstalling collected packages: pymysql\n",
            "Successfully installed pymysql-1.0.2\n"
          ]
        }
      ]
    },
    {
      "cell_type": "markdown",
      "metadata": {
        "id": "eSdUrxp0gaZT"
      },
      "source": []
    },
    {
      "cell_type": "code",
      "metadata": {
        "id": "YLleCBMHdsqT"
      },
      "source": [],
      "execution_count": null,
      "outputs": []
    }
  ]
}
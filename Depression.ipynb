{
  "nbformat": 4,
  "nbformat_minor": 0,
  "metadata": {
    "colab": {
      "provenance": [],
      "include_colab_link": true
    },
    "kernelspec": {
      "name": "python3",
      "display_name": "Python 3"
    },
    "language_info": {
      "name": "python"
    }
  },
  "cells": [
    {
      "cell_type": "markdown",
      "metadata": {
        "id": "view-in-github",
        "colab_type": "text"
      },
      "source": [
        "<a href=\"https://colab.research.google.com/github/Moorehe2/AHIARDIS/blob/main/Depression.ipynb\" target=\"_parent\"><img src=\"https://colab.research.google.com/assets/colab-badge.svg\" alt=\"Open In Colab\"/></a>"
      ]
    },
    {
      "cell_type": "code",
      "metadata": {
        "id": "Sqcqk4oVQe64"
      },
      "source": [
        "import pandas as pd\n",
        "import numpy as np\n",
        "import seaborn as sns\n",
        "import plotly\n",
        "\n"
      ],
      "execution_count": null,
      "outputs": []
    },
    {
      "cell_type": "code",
      "metadata": {
        "id": "rXfhtEKXfH-v"
      },
      "source": [
        "df = pd.read_csv('ardis.csv')"
      ],
      "execution_count": null,
      "outputs": []
    },
    {
      "cell_type": "code",
      "metadata": {
        "colab": {
          "base_uri": "https://localhost:8080/",
          "height": 623
        },
        "id": "--xOm0v2gKvL",
        "outputId": "0a6886fb-1a5a-4c09-bb06-f11c758a1eff"
      },
      "source": [
        "df\n"
      ],
      "execution_count": null,
      "outputs": [
        {
          "output_type": "execute_result",
          "data": {
            "text/html": [
              "<div>\n",
              "<style scoped>\n",
              "    .dataframe tbody tr th:only-of-type {\n",
              "        vertical-align: middle;\n",
              "    }\n",
              "\n",
              "    .dataframe tbody tr th {\n",
              "        vertical-align: top;\n",
              "    }\n",
              "\n",
              "    .dataframe thead th {\n",
              "        text-align: right;\n",
              "    }\n",
              "</style>\n",
              "<table border=\"1\" class=\"dataframe\">\n",
              "  <thead>\n",
              "    <tr style=\"text-align: right;\">\n",
              "      <th></th>\n",
              "      <th>Indicator</th>\n",
              "      <th>Group</th>\n",
              "      <th>State</th>\n",
              "      <th>Subgroup</th>\n",
              "      <th>Phase</th>\n",
              "      <th>Time Period</th>\n",
              "      <th>Time Period Label</th>\n",
              "      <th>Time Period Start Date</th>\n",
              "      <th>Time Period End Date</th>\n",
              "      <th>Value</th>\n",
              "      <th>Low CI</th>\n",
              "      <th>High CI</th>\n",
              "      <th>Confidence Interval</th>\n",
              "      <th>Quartile Range</th>\n",
              "    </tr>\n",
              "  </thead>\n",
              "  <tbody>\n",
              "    <tr>\n",
              "      <th>0</th>\n",
              "      <td>Symptoms of Depressive Disorder</td>\n",
              "      <td>National Estimate</td>\n",
              "      <td>United States</td>\n",
              "      <td>United States</td>\n",
              "      <td>1</td>\n",
              "      <td>1</td>\n",
              "      <td>Apr 23 - May 5</td>\n",
              "      <td>04/23/2020</td>\n",
              "      <td>05/05/2020</td>\n",
              "      <td>23.5</td>\n",
              "      <td>22.7</td>\n",
              "      <td>24.3</td>\n",
              "      <td>22.7 - 24.3</td>\n",
              "      <td>NaN</td>\n",
              "    </tr>\n",
              "    <tr>\n",
              "      <th>1</th>\n",
              "      <td>Symptoms of Depressive Disorder</td>\n",
              "      <td>By Age</td>\n",
              "      <td>United States</td>\n",
              "      <td>18 - 29 years</td>\n",
              "      <td>1</td>\n",
              "      <td>1</td>\n",
              "      <td>Apr 23 - May 5</td>\n",
              "      <td>04/23/2020</td>\n",
              "      <td>05/05/2020</td>\n",
              "      <td>32.7</td>\n",
              "      <td>30.2</td>\n",
              "      <td>35.2</td>\n",
              "      <td>30.2 - 35.2</td>\n",
              "      <td>NaN</td>\n",
              "    </tr>\n",
              "    <tr>\n",
              "      <th>2</th>\n",
              "      <td>Symptoms of Depressive Disorder</td>\n",
              "      <td>By Age</td>\n",
              "      <td>United States</td>\n",
              "      <td>30 - 39 years</td>\n",
              "      <td>1</td>\n",
              "      <td>1</td>\n",
              "      <td>Apr 23 - May 5</td>\n",
              "      <td>04/23/2020</td>\n",
              "      <td>05/05/2020</td>\n",
              "      <td>25.7</td>\n",
              "      <td>24.1</td>\n",
              "      <td>27.3</td>\n",
              "      <td>24.1 - 27.3</td>\n",
              "      <td>NaN</td>\n",
              "    </tr>\n",
              "    <tr>\n",
              "      <th>3</th>\n",
              "      <td>Symptoms of Depressive Disorder</td>\n",
              "      <td>By Age</td>\n",
              "      <td>United States</td>\n",
              "      <td>40 - 49 years</td>\n",
              "      <td>1</td>\n",
              "      <td>1</td>\n",
              "      <td>Apr 23 - May 5</td>\n",
              "      <td>04/23/2020</td>\n",
              "      <td>05/05/2020</td>\n",
              "      <td>24.8</td>\n",
              "      <td>23.3</td>\n",
              "      <td>26.2</td>\n",
              "      <td>23.3 - 26.2</td>\n",
              "      <td>NaN</td>\n",
              "    </tr>\n",
              "    <tr>\n",
              "      <th>4</th>\n",
              "      <td>Symptoms of Depressive Disorder</td>\n",
              "      <td>By Age</td>\n",
              "      <td>United States</td>\n",
              "      <td>50 - 59 years</td>\n",
              "      <td>1</td>\n",
              "      <td>1</td>\n",
              "      <td>Apr 23 - May 5</td>\n",
              "      <td>04/23/2020</td>\n",
              "      <td>05/05/2020</td>\n",
              "      <td>23.2</td>\n",
              "      <td>21.5</td>\n",
              "      <td>25.0</td>\n",
              "      <td>21.5 - 25.0</td>\n",
              "      <td>NaN</td>\n",
              "    </tr>\n",
              "    <tr>\n",
              "      <th>...</th>\n",
              "      <td>...</td>\n",
              "      <td>...</td>\n",
              "      <td>...</td>\n",
              "      <td>...</td>\n",
              "      <td>...</td>\n",
              "      <td>...</td>\n",
              "      <td>...</td>\n",
              "      <td>...</td>\n",
              "      <td>...</td>\n",
              "      <td>...</td>\n",
              "      <td>...</td>\n",
              "      <td>...</td>\n",
              "      <td>...</td>\n",
              "      <td>...</td>\n",
              "    </tr>\n",
              "    <tr>\n",
              "      <th>7132</th>\n",
              "      <td>Symptoms of Anxiety Disorder or Depressive Dis...</td>\n",
              "      <td>By State</td>\n",
              "      <td>Virginia</td>\n",
              "      <td>Virginia</td>\n",
              "      <td>3.1</td>\n",
              "      <td>33</td>\n",
              "      <td>Jun 23 - Jul 5</td>\n",
              "      <td>06/23/2021</td>\n",
              "      <td>07/05/2021</td>\n",
              "      <td>25.9</td>\n",
              "      <td>20.8</td>\n",
              "      <td>31.5</td>\n",
              "      <td>20.8 - 31.5</td>\n",
              "      <td>21.6-26.2</td>\n",
              "    </tr>\n",
              "    <tr>\n",
              "      <th>7133</th>\n",
              "      <td>Symptoms of Anxiety Disorder or Depressive Dis...</td>\n",
              "      <td>By State</td>\n",
              "      <td>Washington</td>\n",
              "      <td>Washington</td>\n",
              "      <td>3.1</td>\n",
              "      <td>33</td>\n",
              "      <td>Jun 23 - Jul 5</td>\n",
              "      <td>06/23/2021</td>\n",
              "      <td>07/05/2021</td>\n",
              "      <td>28.3</td>\n",
              "      <td>25.3</td>\n",
              "      <td>31.4</td>\n",
              "      <td>25.3 - 31.4</td>\n",
              "      <td>28.2-31.2</td>\n",
              "    </tr>\n",
              "    <tr>\n",
              "      <th>7134</th>\n",
              "      <td>Symptoms of Anxiety Disorder or Depressive Dis...</td>\n",
              "      <td>By State</td>\n",
              "      <td>West Virginia</td>\n",
              "      <td>West Virginia</td>\n",
              "      <td>3.1</td>\n",
              "      <td>33</td>\n",
              "      <td>Jun 23 - Jul 5</td>\n",
              "      <td>06/23/2021</td>\n",
              "      <td>07/05/2021</td>\n",
              "      <td>34.1</td>\n",
              "      <td>27.8</td>\n",
              "      <td>40.9</td>\n",
              "      <td>27.8 - 40.9</td>\n",
              "      <td>31.3-37.5</td>\n",
              "    </tr>\n",
              "    <tr>\n",
              "      <th>7135</th>\n",
              "      <td>Symptoms of Anxiety Disorder or Depressive Dis...</td>\n",
              "      <td>By State</td>\n",
              "      <td>Wisconsin</td>\n",
              "      <td>Wisconsin</td>\n",
              "      <td>3.1</td>\n",
              "      <td>33</td>\n",
              "      <td>Jun 23 - Jul 5</td>\n",
              "      <td>06/23/2021</td>\n",
              "      <td>07/05/2021</td>\n",
              "      <td>24.8</td>\n",
              "      <td>20.9</td>\n",
              "      <td>29.0</td>\n",
              "      <td>20.9 - 29.0</td>\n",
              "      <td>21.6-26.2</td>\n",
              "    </tr>\n",
              "    <tr>\n",
              "      <th>7136</th>\n",
              "      <td>Symptoms of Anxiety Disorder or Depressive Dis...</td>\n",
              "      <td>By State</td>\n",
              "      <td>Wyoming</td>\n",
              "      <td>Wyoming</td>\n",
              "      <td>3.1</td>\n",
              "      <td>33</td>\n",
              "      <td>Jun 23 - Jul 5</td>\n",
              "      <td>06/23/2021</td>\n",
              "      <td>07/05/2021</td>\n",
              "      <td>27.5</td>\n",
              "      <td>22.3</td>\n",
              "      <td>33.1</td>\n",
              "      <td>22.3 - 33.1</td>\n",
              "      <td>26.3-28.1</td>\n",
              "    </tr>\n",
              "  </tbody>\n",
              "</table>\n",
              "<p>7137 rows × 14 columns</p>\n",
              "</div>"
            ],
            "text/plain": [
              "                                              Indicator  ... Quartile Range\n",
              "0                       Symptoms of Depressive Disorder  ...            NaN\n",
              "1                       Symptoms of Depressive Disorder  ...            NaN\n",
              "2                       Symptoms of Depressive Disorder  ...            NaN\n",
              "3                       Symptoms of Depressive Disorder  ...            NaN\n",
              "4                       Symptoms of Depressive Disorder  ...            NaN\n",
              "...                                                 ...  ...            ...\n",
              "7132  Symptoms of Anxiety Disorder or Depressive Dis...  ...      21.6-26.2\n",
              "7133  Symptoms of Anxiety Disorder or Depressive Dis...  ...      28.2-31.2\n",
              "7134  Symptoms of Anxiety Disorder or Depressive Dis...  ...      31.3-37.5\n",
              "7135  Symptoms of Anxiety Disorder or Depressive Dis...  ...      21.6-26.2\n",
              "7136  Symptoms of Anxiety Disorder or Depressive Dis...  ...      26.3-28.1\n",
              "\n",
              "[7137 rows x 14 columns]"
            ]
          },
          "metadata": {
            "tags": []
          },
          "execution_count": 7
        }
      ]
    },
    {
      "cell_type": "code",
      "metadata": {
        "colab": {
          "base_uri": "https://localhost:8080/"
        },
        "id": "qqtPDCtLd4Fr",
        "outputId": "ba3a36bd-31b2-414c-9a40-4e075e112dd2"
      },
      "source": [
        "df['Indicator'].value_counts()"
      ],
      "execution_count": null,
      "outputs": [
        {
          "output_type": "execute_result",
          "data": {
            "text/plain": [
              "Symptoms of Anxiety Disorder                           2379\n",
              "Symptoms of Depressive Disorder                        2379\n",
              "Symptoms of Anxiety Disorder or Depressive Disorder    2379\n",
              "Name: Indicator, dtype: int64"
            ]
          },
          "metadata": {
            "tags": []
          },
          "execution_count": 8
        }
      ]
    },
    {
      "cell_type": "code",
      "metadata": {
        "colab": {
          "base_uri": "https://localhost:8080/"
        },
        "id": "PxkAsl3feL02",
        "outputId": "c7bdbbf1-42b0-4a21-f9f9-57cccfec0f9a"
      },
      "source": [
        "df['Group'].value_counts()"
      ],
      "execution_count": null,
      "outputs": [
        {
          "output_type": "execute_result",
          "data": {
            "text/plain": [
              "By State                      5049\n",
              "By Age                         756\n",
              "By Race/Hispanic ethnicity     540\n",
              "By Education                   432\n",
              "By Sex                         216\n",
              "National Estimate              108\n",
              "By Disability status            36\n",
              "Name: Group, dtype: int64"
            ]
          },
          "metadata": {
            "tags": []
          },
          "execution_count": 9
        }
      ]
    },
    {
      "cell_type": "code",
      "metadata": {
        "colab": {
          "base_uri": "https://localhost:8080/"
        },
        "id": "kFSMzlW8eMvv",
        "outputId": "3279bc50-150b-4bc8-da2e-6d2d0ee2ac93"
      },
      "source": [
        "df['Subgroup'].value_counts().head(50)"
      ],
      "execution_count": null,
      "outputs": [
        {
          "output_type": "execute_result",
          "data": {
            "text/plain": [
              "30 - 39 years                                   108\n",
              "United States                                   108\n",
              "Bachelor's degree or higher                     108\n",
              "Non-Hispanic Black, single race                 108\n",
              "Some college/Associate's degree                 108\n",
              "High school diploma or GED                      108\n",
              "70 - 79 years                                   108\n",
              "Female                                          108\n",
              "Hispanic or Latino                              108\n",
              "80 years and above                              108\n",
              "Non-Hispanic Asian, single race                 108\n",
              "18 - 29 years                                   108\n",
              "40 - 49 years                                   108\n",
              "60 - 69 years                                   108\n",
              "Non-Hispanic, other races and multiple races    108\n",
              "Male                                            108\n",
              "Less than a high school diploma                 108\n",
              "Non-Hispanic White, single race                 108\n",
              "50 - 59 years                                   108\n",
              "Vermont                                          99\n",
              "Indiana                                          99\n",
              "Colorado                                         99\n",
              "Alaska                                           99\n",
              "Oklahoma                                         99\n",
              "Georgia                                          99\n",
              "New Mexico                                       99\n",
              "Florida                                          99\n",
              "Ohio                                             99\n",
              "Massachusetts                                    99\n",
              "Alabama                                          99\n",
              "New Jersey                                       99\n",
              "Texas                                            99\n",
              "Missouri                                         99\n",
              "New Hampshire                                    99\n",
              "Louisiana                                        99\n",
              "Nebraska                                         99\n",
              "Arkansas                                         99\n",
              "Idaho                                            99\n",
              "Arizona                                          99\n",
              "Tennessee                                        99\n",
              "Connecticut                                      99\n",
              "Nevada                                           99\n",
              "Illinois                                         99\n",
              "Delaware                                         99\n",
              "Maine                                            99\n",
              "Kentucky                                         99\n",
              "Oregon                                           99\n",
              "California                                       99\n",
              "South Carolina                                   99\n",
              "Wisconsin                                        99\n",
              "Name: Subgroup, dtype: int64"
            ]
          },
          "metadata": {
            "tags": []
          },
          "execution_count": 12
        }
      ]
    },
    {
      "cell_type": "code",
      "metadata": {
        "colab": {
          "base_uri": "https://localhost:8080/"
        },
        "id": "KbfvTrM8eN3V",
        "outputId": "a0a679a5-1fbd-4f3e-b2cf-aac1456d2de8"
      },
      "source": [
        "df['Time Period'].value_counts()"
      ],
      "execution_count": null,
      "outputs": [
        {
          "output_type": "execute_result",
          "data": {
            "text/plain": [
              "1     381\n",
              "31    216\n",
              "30    216\n",
              "28    216\n",
              "32    216\n",
              "29    216\n",
              "33    216\n",
              "3     210\n",
              "7     210\n",
              "8     210\n",
              "12    210\n",
              "16    210\n",
              "20    210\n",
              "24    210\n",
              "23    210\n",
              "19    210\n",
              "15    210\n",
              "5     210\n",
              "9     210\n",
              "13    210\n",
              "17    210\n",
              "21    210\n",
              "25    210\n",
              "11    210\n",
              "27    210\n",
              "2     210\n",
              "6     210\n",
              "10    210\n",
              "14    210\n",
              "18    210\n",
              "22    210\n",
              "26    210\n",
              "4     210\n",
              "Name: Time Period, dtype: int64"
            ]
          },
          "metadata": {
            "tags": []
          },
          "execution_count": 13
        }
      ]
    },
    {
      "cell_type": "markdown",
      "metadata": {
        "id": "vY3NSOWNpdNP"
      },
      "source": [
        "Potential Variable"
      ]
    },
    {
      "cell_type": "code",
      "metadata": {
        "colab": {
          "base_uri": "https://localhost:8080/"
        },
        "id": "33O3rCAzpk33",
        "outputId": "7d0d5c6b-1bc4-478a-b545-f6e8a9981a42"
      },
      "source": [
        "df.columns\n"
      ],
      "execution_count": null,
      "outputs": [
        {
          "output_type": "execute_result",
          "data": {
            "text/plain": [
              "Index(['Indicator', 'Group', 'State', 'Subgroup', 'Phase', 'Time Period',\n",
              "       'Time Period Label', 'Time Period Start Date', 'Time Period End Date',\n",
              "       'Value', 'Low CI', 'High CI', 'Confidence Interval', 'Quartile Range'],\n",
              "      dtype='object')"
            ]
          },
          "metadata": {
            "tags": []
          },
          "execution_count": 9
        }
      ]
    },
    {
      "cell_type": "code",
      "metadata": {
        "id": "ApgX7j7Mgu_g"
      },
      "source": [],
      "execution_count": null,
      "outputs": []
    },
    {
      "cell_type": "markdown",
      "metadata": {
        "id": "jY-L1Yd8qRg_"
      },
      "source": [
        "Missing Data\n",
        "\n",
        "\n"
      ]
    },
    {
      "cell_type": "code",
      "metadata": {
        "colab": {
          "base_uri": "https://localhost:8080/",
          "height": 492
        },
        "id": "N9nn0zpZqLka",
        "outputId": "504d1c8e-d3f0-4c0a-e05a-7acb985b4d10"
      },
      "source": [
        "df.isnull()"
      ],
      "execution_count": null,
      "outputs": [
        {
          "output_type": "execute_result",
          "data": {
            "text/html": [
              "<div>\n",
              "<style scoped>\n",
              "    .dataframe tbody tr th:only-of-type {\n",
              "        vertical-align: middle;\n",
              "    }\n",
              "\n",
              "    .dataframe tbody tr th {\n",
              "        vertical-align: top;\n",
              "    }\n",
              "\n",
              "    .dataframe thead th {\n",
              "        text-align: right;\n",
              "    }\n",
              "</style>\n",
              "<table border=\"1\" class=\"dataframe\">\n",
              "  <thead>\n",
              "    <tr style=\"text-align: right;\">\n",
              "      <th></th>\n",
              "      <th>Indicator</th>\n",
              "      <th>Group</th>\n",
              "      <th>State</th>\n",
              "      <th>Subgroup</th>\n",
              "      <th>Phase</th>\n",
              "      <th>Time Period</th>\n",
              "      <th>Time Period Label</th>\n",
              "      <th>Time Period Start Date</th>\n",
              "      <th>Time Period End Date</th>\n",
              "      <th>Value</th>\n",
              "      <th>Low CI</th>\n",
              "      <th>High CI</th>\n",
              "      <th>Confidence Interval</th>\n",
              "      <th>Quartile Range</th>\n",
              "    </tr>\n",
              "  </thead>\n",
              "  <tbody>\n",
              "    <tr>\n",
              "      <th>0</th>\n",
              "      <td>False</td>\n",
              "      <td>False</td>\n",
              "      <td>False</td>\n",
              "      <td>False</td>\n",
              "      <td>False</td>\n",
              "      <td>False</td>\n",
              "      <td>False</td>\n",
              "      <td>False</td>\n",
              "      <td>False</td>\n",
              "      <td>False</td>\n",
              "      <td>False</td>\n",
              "      <td>False</td>\n",
              "      <td>False</td>\n",
              "      <td>True</td>\n",
              "    </tr>\n",
              "    <tr>\n",
              "      <th>1</th>\n",
              "      <td>False</td>\n",
              "      <td>False</td>\n",
              "      <td>False</td>\n",
              "      <td>False</td>\n",
              "      <td>False</td>\n",
              "      <td>False</td>\n",
              "      <td>False</td>\n",
              "      <td>False</td>\n",
              "      <td>False</td>\n",
              "      <td>False</td>\n",
              "      <td>False</td>\n",
              "      <td>False</td>\n",
              "      <td>False</td>\n",
              "      <td>True</td>\n",
              "    </tr>\n",
              "    <tr>\n",
              "      <th>2</th>\n",
              "      <td>False</td>\n",
              "      <td>False</td>\n",
              "      <td>False</td>\n",
              "      <td>False</td>\n",
              "      <td>False</td>\n",
              "      <td>False</td>\n",
              "      <td>False</td>\n",
              "      <td>False</td>\n",
              "      <td>False</td>\n",
              "      <td>False</td>\n",
              "      <td>False</td>\n",
              "      <td>False</td>\n",
              "      <td>False</td>\n",
              "      <td>True</td>\n",
              "    </tr>\n",
              "    <tr>\n",
              "      <th>3</th>\n",
              "      <td>False</td>\n",
              "      <td>False</td>\n",
              "      <td>False</td>\n",
              "      <td>False</td>\n",
              "      <td>False</td>\n",
              "      <td>False</td>\n",
              "      <td>False</td>\n",
              "      <td>False</td>\n",
              "      <td>False</td>\n",
              "      <td>False</td>\n",
              "      <td>False</td>\n",
              "      <td>False</td>\n",
              "      <td>False</td>\n",
              "      <td>True</td>\n",
              "    </tr>\n",
              "    <tr>\n",
              "      <th>4</th>\n",
              "      <td>False</td>\n",
              "      <td>False</td>\n",
              "      <td>False</td>\n",
              "      <td>False</td>\n",
              "      <td>False</td>\n",
              "      <td>False</td>\n",
              "      <td>False</td>\n",
              "      <td>False</td>\n",
              "      <td>False</td>\n",
              "      <td>False</td>\n",
              "      <td>False</td>\n",
              "      <td>False</td>\n",
              "      <td>False</td>\n",
              "      <td>True</td>\n",
              "    </tr>\n",
              "    <tr>\n",
              "      <th>...</th>\n",
              "      <td>...</td>\n",
              "      <td>...</td>\n",
              "      <td>...</td>\n",
              "      <td>...</td>\n",
              "      <td>...</td>\n",
              "      <td>...</td>\n",
              "      <td>...</td>\n",
              "      <td>...</td>\n",
              "      <td>...</td>\n",
              "      <td>...</td>\n",
              "      <td>...</td>\n",
              "      <td>...</td>\n",
              "      <td>...</td>\n",
              "      <td>...</td>\n",
              "    </tr>\n",
              "    <tr>\n",
              "      <th>7132</th>\n",
              "      <td>False</td>\n",
              "      <td>False</td>\n",
              "      <td>False</td>\n",
              "      <td>False</td>\n",
              "      <td>False</td>\n",
              "      <td>False</td>\n",
              "      <td>False</td>\n",
              "      <td>False</td>\n",
              "      <td>False</td>\n",
              "      <td>False</td>\n",
              "      <td>False</td>\n",
              "      <td>False</td>\n",
              "      <td>False</td>\n",
              "      <td>False</td>\n",
              "    </tr>\n",
              "    <tr>\n",
              "      <th>7133</th>\n",
              "      <td>False</td>\n",
              "      <td>False</td>\n",
              "      <td>False</td>\n",
              "      <td>False</td>\n",
              "      <td>False</td>\n",
              "      <td>False</td>\n",
              "      <td>False</td>\n",
              "      <td>False</td>\n",
              "      <td>False</td>\n",
              "      <td>False</td>\n",
              "      <td>False</td>\n",
              "      <td>False</td>\n",
              "      <td>False</td>\n",
              "      <td>False</td>\n",
              "    </tr>\n",
              "    <tr>\n",
              "      <th>7134</th>\n",
              "      <td>False</td>\n",
              "      <td>False</td>\n",
              "      <td>False</td>\n",
              "      <td>False</td>\n",
              "      <td>False</td>\n",
              "      <td>False</td>\n",
              "      <td>False</td>\n",
              "      <td>False</td>\n",
              "      <td>False</td>\n",
              "      <td>False</td>\n",
              "      <td>False</td>\n",
              "      <td>False</td>\n",
              "      <td>False</td>\n",
              "      <td>False</td>\n",
              "    </tr>\n",
              "    <tr>\n",
              "      <th>7135</th>\n",
              "      <td>False</td>\n",
              "      <td>False</td>\n",
              "      <td>False</td>\n",
              "      <td>False</td>\n",
              "      <td>False</td>\n",
              "      <td>False</td>\n",
              "      <td>False</td>\n",
              "      <td>False</td>\n",
              "      <td>False</td>\n",
              "      <td>False</td>\n",
              "      <td>False</td>\n",
              "      <td>False</td>\n",
              "      <td>False</td>\n",
              "      <td>False</td>\n",
              "    </tr>\n",
              "    <tr>\n",
              "      <th>7136</th>\n",
              "      <td>False</td>\n",
              "      <td>False</td>\n",
              "      <td>False</td>\n",
              "      <td>False</td>\n",
              "      <td>False</td>\n",
              "      <td>False</td>\n",
              "      <td>False</td>\n",
              "      <td>False</td>\n",
              "      <td>False</td>\n",
              "      <td>False</td>\n",
              "      <td>False</td>\n",
              "      <td>False</td>\n",
              "      <td>False</td>\n",
              "      <td>False</td>\n",
              "    </tr>\n",
              "  </tbody>\n",
              "</table>\n",
              "<p>7137 rows × 14 columns</p>\n",
              "</div>"
            ],
            "text/plain": [
              "      Indicator  Group  State  ...  High CI  Confidence Interval  Quartile Range\n",
              "0         False  False  False  ...    False                False            True\n",
              "1         False  False  False  ...    False                False            True\n",
              "2         False  False  False  ...    False                False            True\n",
              "3         False  False  False  ...    False                False            True\n",
              "4         False  False  False  ...    False                False            True\n",
              "...         ...    ...    ...  ...      ...                  ...             ...\n",
              "7132      False  False  False  ...    False                False           False\n",
              "7133      False  False  False  ...    False                False           False\n",
              "7134      False  False  False  ...    False                False           False\n",
              "7135      False  False  False  ...    False                False           False\n",
              "7136      False  False  False  ...    False                False           False\n",
              "\n",
              "[7137 rows x 14 columns]"
            ]
          },
          "metadata": {
            "tags": []
          },
          "execution_count": 10
        }
      ]
    },
    {
      "cell_type": "markdown",
      "metadata": {
        "id": "pV9Il800y50l"
      },
      "source": [
        "Missing Value\n",
        "\n"
      ]
    },
    {
      "cell_type": "markdown",
      "metadata": {
        "id": "icjGh0VazBMg"
      },
      "source": []
    },
    {
      "cell_type": "code",
      "metadata": {
        "colab": {
          "base_uri": "https://localhost:8080/"
        },
        "id": "JmrPsoNrzCde",
        "outputId": "4a9aa8e7-27ab-4a52-c023-803c7c86824d"
      },
      "source": [
        "df.isna().sum()"
      ],
      "execution_count": null,
      "outputs": [
        {
          "output_type": "execute_result",
          "data": {
            "text/plain": [
              "Indicator                    0\n",
              "Group                        0\n",
              "State                        0\n",
              "Subgroup                     0\n",
              "Phase                        0\n",
              "Time Period                  0\n",
              "Time Period Label            0\n",
              "Time Period Start Date       0\n",
              "Time Period End Date         0\n",
              "Value                      171\n",
              "Low CI                     171\n",
              "High CI                    171\n",
              "Confidence Interval        171\n",
              "Quartile Range            2088\n",
              "dtype: int64"
            ]
          },
          "metadata": {
            "tags": []
          },
          "execution_count": 28
        }
      ]
    },
    {
      "cell_type": "markdown",
      "metadata": {
        "id": "zp2A3EVey0yX"
      },
      "source": [
        "\n",
        "\n"
      ]
    },
    {
      "cell_type": "code",
      "metadata": {
        "id": "7NpHsNElyztx"
      },
      "source": [],
      "execution_count": null,
      "outputs": []
    },
    {
      "cell_type": "markdown",
      "metadata": {
        "id": "EhV6yyE2qodx"
      },
      "source": [
        "Transformation"
      ]
    },
    {
      "cell_type": "code",
      "metadata": {
        "colab": {
          "base_uri": "https://localhost:8080/"
        },
        "id": "b1KwVR03qDdP",
        "outputId": "340648a2-96ee-4373-85e9-296e414a3b0f"
      },
      "source": [
        "df.dtypes\n"
      ],
      "execution_count": null,
      "outputs": [
        {
          "output_type": "execute_result",
          "data": {
            "text/plain": [
              "Indicator                  object\n",
              "Group                      object\n",
              "State                      object\n",
              "Subgroup                   object\n",
              "Phase                      object\n",
              "Time Period                 int64\n",
              "Time Period Label          object\n",
              "Time Period Start Date     object\n",
              "Time Period End Date       object\n",
              "Value                     float64\n",
              "Low CI                    float64\n",
              "High CI                   float64\n",
              "Confidence Interval        object\n",
              "Quartile Range             object\n",
              "dtype: object"
            ]
          },
          "metadata": {
            "tags": []
          },
          "execution_count": 12
        }
      ]
    },
    {
      "cell_type": "markdown",
      "metadata": {
        "id": "tGk42WmrzU2R"
      },
      "source": [
        "Value Counts\n"
      ]
    },
    {
      "cell_type": "code",
      "metadata": {
        "colab": {
          "base_uri": "https://localhost:8080/"
        },
        "id": "2OQ-tqlNzaUW",
        "outputId": "08481748-3be2-476c-e610-d5c7fe64e849"
      },
      "source": [
        "df['High CI'].value_counts()"
      ],
      "execution_count": null,
      "outputs": [
        {
          "output_type": "execute_result",
          "data": {
            "text/plain": [
              "36.8    51\n",
              "31.6    48\n",
              "39.2    48\n",
              "33.3    47\n",
              "32.0    46\n",
              "        ..\n",
              "11.8     1\n",
              "59.1     1\n",
              "55.8     1\n",
              "17.1     1\n",
              "55.9     1\n",
              "Name: High CI, Length: 438, dtype: int64"
            ]
          },
          "metadata": {
            "tags": []
          },
          "execution_count": 35
        }
      ]
    },
    {
      "cell_type": "markdown",
      "metadata": {
        "id": "VHGgTrge1kqz"
      },
      "source": [
        "Central Tendency"
      ]
    },
    {
      "cell_type": "code",
      "metadata": {
        "colab": {
          "base_uri": "https://localhost:8080/",
          "height": 298
        },
        "id": "-bdnIOXs1orv",
        "outputId": "f9931da4-4460-4dfc-cc9e-482b4dd8568d"
      },
      "source": [
        "df.describe()"
      ],
      "execution_count": null,
      "outputs": [
        {
          "output_type": "execute_result",
          "data": {
            "text/html": [
              "<div>\n",
              "<style scoped>\n",
              "    .dataframe tbody tr th:only-of-type {\n",
              "        vertical-align: middle;\n",
              "    }\n",
              "\n",
              "    .dataframe tbody tr th {\n",
              "        vertical-align: top;\n",
              "    }\n",
              "\n",
              "    .dataframe thead th {\n",
              "        text-align: right;\n",
              "    }\n",
              "</style>\n",
              "<table border=\"1\" class=\"dataframe\">\n",
              "  <thead>\n",
              "    <tr style=\"text-align: right;\">\n",
              "      <th></th>\n",
              "      <th>Time Period</th>\n",
              "      <th>Value</th>\n",
              "      <th>Low CI</th>\n",
              "      <th>High CI</th>\n",
              "    </tr>\n",
              "  </thead>\n",
              "  <tbody>\n",
              "    <tr>\n",
              "      <th>count</th>\n",
              "      <td>7137.000000</td>\n",
              "      <td>6966.000000</td>\n",
              "      <td>6966.000000</td>\n",
              "      <td>6966.000000</td>\n",
              "    </tr>\n",
              "    <tr>\n",
              "      <th>mean</th>\n",
              "      <td>16.684741</td>\n",
              "      <td>30.657364</td>\n",
              "      <td>26.983233</td>\n",
              "      <td>34.574203</td>\n",
              "    </tr>\n",
              "    <tr>\n",
              "      <th>std</th>\n",
              "      <td>9.747748</td>\n",
              "      <td>7.472522</td>\n",
              "      <td>7.456390</td>\n",
              "      <td>7.706644</td>\n",
              "    </tr>\n",
              "    <tr>\n",
              "      <th>min</th>\n",
              "      <td>1.000000</td>\n",
              "      <td>6.400000</td>\n",
              "      <td>5.100000</td>\n",
              "      <td>7.900000</td>\n",
              "    </tr>\n",
              "    <tr>\n",
              "      <th>25%</th>\n",
              "      <td>8.000000</td>\n",
              "      <td>25.300000</td>\n",
              "      <td>21.500000</td>\n",
              "      <td>29.200000</td>\n",
              "    </tr>\n",
              "    <tr>\n",
              "      <th>50%</th>\n",
              "      <td>17.000000</td>\n",
              "      <td>30.500000</td>\n",
              "      <td>26.700000</td>\n",
              "      <td>34.400000</td>\n",
              "    </tr>\n",
              "    <tr>\n",
              "      <th>75%</th>\n",
              "      <td>25.000000</td>\n",
              "      <td>35.775000</td>\n",
              "      <td>31.900000</td>\n",
              "      <td>39.800000</td>\n",
              "    </tr>\n",
              "    <tr>\n",
              "      <th>max</th>\n",
              "      <td>33.000000</td>\n",
              "      <td>64.300000</td>\n",
              "      <td>61.800000</td>\n",
              "      <td>66.800000</td>\n",
              "    </tr>\n",
              "  </tbody>\n",
              "</table>\n",
              "</div>"
            ],
            "text/plain": [
              "       Time Period        Value       Low CI      High CI\n",
              "count  7137.000000  6966.000000  6966.000000  6966.000000\n",
              "mean     16.684741    30.657364    26.983233    34.574203\n",
              "std       9.747748     7.472522     7.456390     7.706644\n",
              "min       1.000000     6.400000     5.100000     7.900000\n",
              "25%       8.000000    25.300000    21.500000    29.200000\n",
              "50%      17.000000    30.500000    26.700000    34.400000\n",
              "75%      25.000000    35.775000    31.900000    39.800000\n",
              "max      33.000000    64.300000    61.800000    66.800000"
            ]
          },
          "metadata": {
            "tags": []
          },
          "execution_count": 37
        }
      ]
    },
    {
      "cell_type": "markdown",
      "metadata": {
        "id": "2dkl5pfGf35T"
      },
      "source": [
        "# Hants' Example - Looking at National Trends "
      ]
    },
    {
      "cell_type": "code",
      "metadata": {
        "id": "IL7nG-l2f2nR"
      },
      "source": [
        "# 1 Create a sub-group of rows that only contains national averages"
      ],
      "execution_count": null,
      "outputs": []
    },
    {
      "cell_type": "code",
      "metadata": {
        "id": "3nZC3TLUf_pW"
      },
      "source": [
        "# hants_test222         =         df[   df['Group'] == 'National Estimate'          ]"
      ],
      "execution_count": null,
      "outputs": []
    },
    {
      "cell_type": "code",
      "metadata": {
        "colab": {
          "base_uri": "https://localhost:8080/",
          "height": 606
        },
        "id": "hJ10O2b6hLDL",
        "outputId": "af5daa7f-7a95-4cc0-a18b-019e0eeb6440"
      },
      "source": [
        "# hants_test222"
      ],
      "execution_count": null,
      "outputs": [
        {
          "output_type": "execute_result",
          "data": {
            "text/html": [
              "<div>\n",
              "<style scoped>\n",
              "    .dataframe tbody tr th:only-of-type {\n",
              "        vertical-align: middle;\n",
              "    }\n",
              "\n",
              "    .dataframe tbody tr th {\n",
              "        vertical-align: top;\n",
              "    }\n",
              "\n",
              "    .dataframe thead th {\n",
              "        text-align: right;\n",
              "    }\n",
              "</style>\n",
              "<table border=\"1\" class=\"dataframe\">\n",
              "  <thead>\n",
              "    <tr style=\"text-align: right;\">\n",
              "      <th></th>\n",
              "      <th>Indicator</th>\n",
              "      <th>Group</th>\n",
              "      <th>State</th>\n",
              "      <th>Subgroup</th>\n",
              "      <th>Phase</th>\n",
              "      <th>Time Period</th>\n",
              "      <th>Time Period Label</th>\n",
              "      <th>Time Period Start Date</th>\n",
              "      <th>Time Period End Date</th>\n",
              "      <th>Value</th>\n",
              "      <th>Low CI</th>\n",
              "      <th>High CI</th>\n",
              "      <th>Confidence Interval</th>\n",
              "      <th>Quartile Range</th>\n",
              "    </tr>\n",
              "  </thead>\n",
              "  <tbody>\n",
              "    <tr>\n",
              "      <th>0</th>\n",
              "      <td>Symptoms of Depressive Disorder</td>\n",
              "      <td>National Estimate</td>\n",
              "      <td>United States</td>\n",
              "      <td>United States</td>\n",
              "      <td>1</td>\n",
              "      <td>1</td>\n",
              "      <td>Apr 23 - May 5</td>\n",
              "      <td>04/23/2020</td>\n",
              "      <td>05/05/2020</td>\n",
              "      <td>23.5</td>\n",
              "      <td>22.7</td>\n",
              "      <td>24.3</td>\n",
              "      <td>22.7 - 24.3</td>\n",
              "      <td>NaN</td>\n",
              "    </tr>\n",
              "    <tr>\n",
              "      <th>70</th>\n",
              "      <td>Symptoms of Anxiety Disorder</td>\n",
              "      <td>National Estimate</td>\n",
              "      <td>United States</td>\n",
              "      <td>United States</td>\n",
              "      <td>1</td>\n",
              "      <td>1</td>\n",
              "      <td>Apr 23 - May 5</td>\n",
              "      <td>04/23/2020</td>\n",
              "      <td>05/05/2020</td>\n",
              "      <td>30.8</td>\n",
              "      <td>30.0</td>\n",
              "      <td>31.7</td>\n",
              "      <td>30.0 - 31.7</td>\n",
              "      <td>NaN</td>\n",
              "    </tr>\n",
              "    <tr>\n",
              "      <th>140</th>\n",
              "      <td>Symptoms of Anxiety Disorder or Depressive Dis...</td>\n",
              "      <td>National Estimate</td>\n",
              "      <td>United States</td>\n",
              "      <td>United States</td>\n",
              "      <td>1</td>\n",
              "      <td>1</td>\n",
              "      <td>Apr 23 - May 5</td>\n",
              "      <td>04/23/2020</td>\n",
              "      <td>05/05/2020</td>\n",
              "      <td>35.9</td>\n",
              "      <td>35.0</td>\n",
              "      <td>36.8</td>\n",
              "      <td>35.0 - 36.8</td>\n",
              "      <td>NaN</td>\n",
              "    </tr>\n",
              "    <tr>\n",
              "      <th>210</th>\n",
              "      <td>Symptoms of Depressive Disorder</td>\n",
              "      <td>National Estimate</td>\n",
              "      <td>United States</td>\n",
              "      <td>United States</td>\n",
              "      <td>1</td>\n",
              "      <td>2</td>\n",
              "      <td>May 7 - May 12</td>\n",
              "      <td>05/07/2020</td>\n",
              "      <td>05/12/2020</td>\n",
              "      <td>24.1</td>\n",
              "      <td>23.0</td>\n",
              "      <td>25.2</td>\n",
              "      <td>23.0 - 25.2</td>\n",
              "      <td>NaN</td>\n",
              "    </tr>\n",
              "    <tr>\n",
              "      <th>280</th>\n",
              "      <td>Symptoms of Anxiety Disorder</td>\n",
              "      <td>National Estimate</td>\n",
              "      <td>United States</td>\n",
              "      <td>United States</td>\n",
              "      <td>1</td>\n",
              "      <td>2</td>\n",
              "      <td>May 7 - May 12</td>\n",
              "      <td>05/07/2020</td>\n",
              "      <td>05/12/2020</td>\n",
              "      <td>30.0</td>\n",
              "      <td>28.9</td>\n",
              "      <td>31.0</td>\n",
              "      <td>28.9 - 31.0</td>\n",
              "      <td>NaN</td>\n",
              "    </tr>\n",
              "    <tr>\n",
              "      <th>...</th>\n",
              "      <td>...</td>\n",
              "      <td>...</td>\n",
              "      <td>...</td>\n",
              "      <td>...</td>\n",
              "      <td>...</td>\n",
              "      <td>...</td>\n",
              "      <td>...</td>\n",
              "      <td>...</td>\n",
              "      <td>...</td>\n",
              "      <td>...</td>\n",
              "      <td>...</td>\n",
              "      <td>...</td>\n",
              "      <td>...</td>\n",
              "      <td>...</td>\n",
              "    </tr>\n",
              "    <tr>\n",
              "      <th>6777</th>\n",
              "      <td>Symptoms of Anxiety Disorder</td>\n",
              "      <td>National Estimate</td>\n",
              "      <td>United States</td>\n",
              "      <td>United States</td>\n",
              "      <td>3.1</td>\n",
              "      <td>32</td>\n",
              "      <td>Jun 9 - Jun 21</td>\n",
              "      <td>06/09/2021</td>\n",
              "      <td>06/21/2021</td>\n",
              "      <td>26.1</td>\n",
              "      <td>25.2</td>\n",
              "      <td>26.9</td>\n",
              "      <td>25.2 - 26.9</td>\n",
              "      <td>NaN</td>\n",
              "    </tr>\n",
              "    <tr>\n",
              "      <th>6849</th>\n",
              "      <td>Symptoms of Anxiety Disorder or Depressive Dis...</td>\n",
              "      <td>National Estimate</td>\n",
              "      <td>United States</td>\n",
              "      <td>United States</td>\n",
              "      <td>3.1</td>\n",
              "      <td>32</td>\n",
              "      <td>Jun 9 - Jun 21</td>\n",
              "      <td>06/09/2021</td>\n",
              "      <td>06/21/2021</td>\n",
              "      <td>30.4</td>\n",
              "      <td>29.5</td>\n",
              "      <td>31.3</td>\n",
              "      <td>29.5 - 31.3</td>\n",
              "      <td>NaN</td>\n",
              "    </tr>\n",
              "    <tr>\n",
              "      <th>6921</th>\n",
              "      <td>Symptoms of Depressive Disorder</td>\n",
              "      <td>National Estimate</td>\n",
              "      <td>United States</td>\n",
              "      <td>United States</td>\n",
              "      <td>3.1</td>\n",
              "      <td>33</td>\n",
              "      <td>Jun 23 - Jul 5</td>\n",
              "      <td>06/23/2021</td>\n",
              "      <td>07/05/2021</td>\n",
              "      <td>20.9</td>\n",
              "      <td>20.2</td>\n",
              "      <td>21.6</td>\n",
              "      <td>20.2 - 21.6</td>\n",
              "      <td>NaN</td>\n",
              "    </tr>\n",
              "    <tr>\n",
              "      <th>6993</th>\n",
              "      <td>Symptoms of Anxiety Disorder</td>\n",
              "      <td>National Estimate</td>\n",
              "      <td>United States</td>\n",
              "      <td>United States</td>\n",
              "      <td>3.1</td>\n",
              "      <td>33</td>\n",
              "      <td>Jun 23 - Jul 5</td>\n",
              "      <td>06/23/2021</td>\n",
              "      <td>07/05/2021</td>\n",
              "      <td>24.5</td>\n",
              "      <td>23.8</td>\n",
              "      <td>25.3</td>\n",
              "      <td>23.8 - 25.3</td>\n",
              "      <td>NaN</td>\n",
              "    </tr>\n",
              "    <tr>\n",
              "      <th>7065</th>\n",
              "      <td>Symptoms of Anxiety Disorder or Depressive Dis...</td>\n",
              "      <td>National Estimate</td>\n",
              "      <td>United States</td>\n",
              "      <td>United States</td>\n",
              "      <td>3.1</td>\n",
              "      <td>33</td>\n",
              "      <td>Jun 23 - Jul 5</td>\n",
              "      <td>06/23/2021</td>\n",
              "      <td>07/05/2021</td>\n",
              "      <td>29.0</td>\n",
              "      <td>28.2</td>\n",
              "      <td>29.9</td>\n",
              "      <td>28.2 - 29.9</td>\n",
              "      <td>NaN</td>\n",
              "    </tr>\n",
              "  </tbody>\n",
              "</table>\n",
              "<p>108 rows × 14 columns</p>\n",
              "</div>"
            ],
            "text/plain": [
              "                                              Indicator  ... Quartile Range\n",
              "0                       Symptoms of Depressive Disorder  ...            NaN\n",
              "70                         Symptoms of Anxiety Disorder  ...            NaN\n",
              "140   Symptoms of Anxiety Disorder or Depressive Dis...  ...            NaN\n",
              "210                     Symptoms of Depressive Disorder  ...            NaN\n",
              "280                        Symptoms of Anxiety Disorder  ...            NaN\n",
              "...                                                 ...  ...            ...\n",
              "6777                       Symptoms of Anxiety Disorder  ...            NaN\n",
              "6849  Symptoms of Anxiety Disorder or Depressive Dis...  ...            NaN\n",
              "6921                    Symptoms of Depressive Disorder  ...            NaN\n",
              "6993                       Symptoms of Anxiety Disorder  ...            NaN\n",
              "7065  Symptoms of Anxiety Disorder or Depressive Dis...  ...            NaN\n",
              "\n",
              "[108 rows x 14 columns]"
            ]
          },
          "metadata": {
            "tags": []
          },
          "execution_count": 49
        }
      ]
    },
    {
      "cell_type": "code",
      "metadata": {
        "colab": {
          "base_uri": "https://localhost:8080/"
        },
        "id": "R_AsJg5Kh5qE",
        "outputId": "a46e127e-db1b-42d7-c476-4727a3a1603f"
      },
      "source": [
        "# hants_test222['Value']\n",
        "# hants_test222['Value'].describe()"
      ],
      "execution_count": null,
      "outputs": [
        {
          "output_type": "execute_result",
          "data": {
            "text/plain": [
              "count    99.000000\n",
              "mean     31.297980\n",
              "std       5.629532\n",
              "min      20.900000\n",
              "25%      26.450000\n",
              "50%      30.800000\n",
              "75%      36.100000\n",
              "max      42.600000\n",
              "Name: Value, dtype: float64"
            ]
          },
          "metadata": {
            "tags": []
          },
          "execution_count": 50
        }
      ]
    },
    {
      "cell_type": "code",
      "metadata": {
        "colab": {
          "base_uri": "https://localhost:8080/"
        },
        "id": "jxOdAYuYiG6n",
        "outputId": "9c620f28-6879-40f9-86c8-3ac992b1f62d"
      },
      "source": [
        "# hants_test222['Value'].isnull().value_counts()"
      ],
      "execution_count": null,
      "outputs": [
        {
          "output_type": "execute_result",
          "data": {
            "text/plain": [
              "False    99\n",
              "True      9\n",
              "Name: Value, dtype: int64"
            ]
          },
          "metadata": {
            "tags": []
          },
          "execution_count": 51
        }
      ]
    },
    {
      "cell_type": "code",
      "metadata": {
        "id": "98mraZhxjcwY"
      },
      "source": [
        "# hants_test222['Value']"
      ],
      "execution_count": null,
      "outputs": []
    },
    {
      "cell_type": "code",
      "metadata": {
        "id": "n2U0hLm0j8MX"
      },
      "source": [
        "#  hants_test222=hants_test222.dropna(subset=['Value'])"
      ],
      "execution_count": null,
      "outputs": []
    },
    {
      "cell_type": "code",
      "metadata": {
        "id": "CXIdHkvyklUG"
      },
      "source": [],
      "execution_count": null,
      "outputs": []
    },
    {
      "cell_type": "code",
      "metadata": {
        "id": "9bJJE5MGkNLv"
      },
      "source": [
        "# hants_test222['Value'] = hants_test222['Value'].astype(str).apply(lambda x: x.replace('.0',''))\n",
        "# hants_test222['Value'] = hants_test222['Value'].astype(int)"
      ],
      "execution_count": null,
      "outputs": []
    },
    {
      "cell_type": "code",
      "metadata": {
        "id": "PeZ71a9hl-M7"
      },
      "source": [],
      "execution_count": null,
      "outputs": []
    },
    {
      "cell_type": "code",
      "metadata": {
        "colab": {
          "base_uri": "https://localhost:8080/"
        },
        "id": "6CdUJhpjk8CZ",
        "outputId": "5ca3686c-a11c-4775-fe60-3edf552db905"
      },
      "source": [
        "hants_test222['Value'].describe() "
      ],
      "execution_count": null,
      "outputs": [
        {
          "output_type": "execute_result",
          "data": {
            "text/plain": [
              "count    99.000000\n",
              "mean     31.272727\n",
              "std       5.627589\n",
              "min      21.000000\n",
              "25%      26.000000\n",
              "50%      31.000000\n",
              "75%      36.000000\n",
              "max      43.000000\n",
              "Name: Value, dtype: float64"
            ]
          },
          "metadata": {
            "tags": []
          },
          "execution_count": 64
        }
      ]
    },
    {
      "cell_type": "code",
      "metadata": {
        "id": "gwzMmFjDmV-y"
      },
      "source": [
        "# sns.barplot(hants_test222, x='Indicator', y='Value')"
      ],
      "execution_count": null,
      "outputs": []
    },
    {
      "cell_type": "code",
      "metadata": {
        "colab": {
          "base_uri": "https://localhost:8080/",
          "height": 583
        },
        "id": "l0yePXPphp0W",
        "outputId": "37d40343-6a1a-46b7-a970-d20d0a242081"
      },
      "source": [
        "visual1 = sns.barplot(x=df['Indicator'], y=df['Value'])\n",
        "\n",
        "visual1.set_xticklabels(visual1.get_xticklabels(), rotation=75)\n"
      ],
      "execution_count": null,
      "outputs": [
        {
          "output_type": "execute_result",
          "data": {
            "text/plain": [
              "[Text(0, 0, 'Symptoms of Depressive Disorder'),\n",
              " Text(0, 0, 'Symptoms of Anxiety Disorder'),\n",
              " Text(0, 0, 'Symptoms of Anxiety Disorder or Depressive Disorder')]"
            ]
          },
          "metadata": {
            "tags": []
          },
          "execution_count": 75
        },
        {
          "output_type": "display_data",
          "data": {
            "image/png": "[encoded data removed]",
            "text/plain": [
              "<Figure size 432x288 with 1 Axes>"
            ]
          },
          "metadata": {
            "tags": [],
            "needs_background": "light"
          }
        }
      ]
    },
    {
      "cell_type": "code",
      "metadata": {
        "id": "GJWBv7ZVl_Vh"
      },
      "source": [],
      "execution_count": null,
      "outputs": []
    },
    {
      "cell_type": "code",
      "metadata": {
        "id": "lTpavkJsl_g3"
      },
      "source": [],
      "execution_count": null,
      "outputs": []
    },
    {
      "cell_type": "markdown",
      "metadata": {
        "id": "zyGdD3-uf3EY"
      },
      "source": []
    },
    {
      "cell_type": "markdown",
      "metadata": {
        "id": "2N5BfVoP1-mM"
      },
      "source": [
        "Visualation"
      ]
    },
    {
      "cell_type": "markdown",
      "metadata": {
        "id": "m2N5mLzn2iFR"
      },
      "source": []
    }
  ]
}
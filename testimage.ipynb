{
  "nbformat": 4,
  "nbformat_minor": 0,
  "metadata": {
    "colab": {
      "provenance": [],
      "authorship_tag": "ABX9TyMne16/rJ5vZPV4LOUjnQD8",
      "include_colab_link": true
    },
    "kernelspec": {
      "name": "python3",
      "display_name": "Python 3"
    },
    "language_info": {
      "name": "python"
    }
  },
  "cells": [
    {
      "cell_type": "markdown",
      "metadata": {
        "id": "view-in-github",
        "colab_type": "text"
      },
      "source": [
        "<a href=\"https://colab.research.google.com/github/Moorehe2/AHIARDIS/blob/main/testimage.ipynb\" target=\"_parent\"><img src=\"https://colab.research.google.com/assets/colab-badge.svg\" alt=\"Open In Colab\"/></a>"
      ]
    },
    {
      "cell_type": "code",
      "source": [
        "import pandas as pd\n",
        "import numpy as np\n",
        "import cv2 as cv \n",
        "from google.colab.patches import cv2_imshow # for image display\n",
        "from skimage import io\n",
        "from PIL import Image \n",
        "import matplotlib.pylab as plt\n",
        "\n",
        "\n",
        "\n"
      ],
      "metadata": {
        "id": "JW3OTLCUe_jJ"
      },
      "execution_count": null,
      "outputs": []
    },
    {
      "cell_type": "code",
      "execution_count": null,
      "metadata": {
        "colab": {
          "base_uri": "https://localhost:8080/"
        },
        "id": "l7aVK_diVg_4",
        "outputId": "665f1e09-775c-4509-caa3-f02ea69f2b82"
      },
      "outputs": [
        {
          "output_type": "stream",
          "name": "stdout",
          "text": [
            "Pillow version: 7.1.2\n"
          ]
        }
      ],
      "source": [
        "import PIL\n",
        "print('Pillow version:', PIL.__version__)"
      ]
    },
    {
      "cell_type": "code",
      "source": [
        "!wget url_to_the_zip_file"
      ],
      "metadata": {
        "colab": {
          "base_uri": "https://localhost:8080/"
        },
        "id": "J3SBwnhGfBWQ",
        "outputId": "c51f8270-3a25-4db6-e5bd-94e55550902e"
      },
      "execution_count": null,
      "outputs": [
        {
          "output_type": "stream",
          "name": "stdout",
          "text": [
            "--2022-06-28 01:17:43--  http://url_to_the_zip_file/\n",
            "Resolving url_to_the_zip_file (url_to_the_zip_file)... failed: Name or service not known.\n",
            "wget: unable to resolve host address ‘url_to_the_zip_file’\n"
          ]
        }
      ]
    },
    {
      "cell_type": "code",
      "source": [
        "!unzip yes.zip"
      ],
      "metadata": {
        "colab": {
          "base_uri": "https://localhost:8080/"
        },
        "id": "AF3Ev6yvfJ8g",
        "outputId": "c18e6cbb-df19-4a56-ac58-22a41576717d"
      },
      "execution_count": null,
      "outputs": [
        {
          "output_type": "stream",
          "name": "stdout",
          "text": [
            "Archive:  yes.zip\n",
            "   creating: yes/\n",
            "  inflating: __MACOSX/._yes          \n",
            "  inflating: yes/Y157.JPG            \n",
            "  inflating: yes/Y6.jpg              \n",
            "  inflating: yes/Y194.jpg            \n",
            "  inflating: yes/Y180.jpg            \n",
            "  inflating: yes/Y90.jpg             \n",
            "  inflating: yes/Y47.JPG             \n",
            "  inflating: yes/Y53.jpg             \n",
            "  inflating: yes/Y52.jpg             \n",
            "  inflating: yes/Y46.jpg             \n",
            "  inflating: yes/Y91.jpg             \n",
            "  inflating: yes/Y85.JPG             \n",
            "  inflating: yes/Y181.jpg            \n",
            "  inflating: yes/Y195.JPG            \n",
            "  inflating: yes/Y7.jpg              \n",
            "  inflating: yes/Y156.JPG            \n",
            "  inflating: yes/Y168.jpg            \n",
            "  inflating: yes/Y154.jpg            \n",
            "  inflating: yes/Y183.jpg            \n",
            "  inflating: yes/Y78.jpg             \n",
            "  inflating: yes/Y50.JPG             \n",
            "  inflating: yes/Y44.JPG             \n",
            "  inflating: yes/Y45.JPG             \n",
            "  inflating: yes/Y51.jpg             \n",
            "  inflating: yes/Y79.jpg             \n",
            "  inflating: yes/Y86.JPG             \n",
            "  inflating: yes/Y92.jpg             \n",
            "  inflating: yes/Y92.png             \n",
            "  inflating: yes/Y182.JPG            \n",
            "  inflating: yes/Y155.JPG            \n",
            "  inflating: yes/Y4.jpg              \n",
            "  inflating: yes/Y169.jpg            \n",
            "  inflating: yes/Y186.jpg            \n",
            "  inflating: yes/Y192.JPG            \n",
            "  inflating: yes/Y96.jpg             \n",
            "  inflating: yes/Y82.jpg             \n",
            "  inflating: yes/Y55.jpg             \n",
            "  inflating: yes/Y41.jpg             \n",
            "  inflating: yes/Y69.jpg             \n",
            "  inflating: yes/Y40.JPG             \n",
            "  inflating: yes/Y54.jpg             \n",
            "  inflating: yes/Y97.JPG             \n",
            "  inflating: yes/Y193.JPG            \n",
            "  inflating: yes/Y187.jpg            \n",
            "  inflating: yes/Y1.jpg              \n",
            "  inflating: yes/Y3.jpg              \n",
            "  inflating: yes/Y146.JPG            \n",
            "  inflating: yes/Y185.jpg            \n",
            "  inflating: yes/Y81.jpg             \n",
            "  inflating: yes/Y95.jpg             \n",
            "  inflating: yes/Y42.jpg             \n",
            "  inflating: yes/Y56.jpg             \n",
            "  inflating: yes/Y184.JPG            \n",
            "  inflating: yes/Y2.jpg              \n",
            "  inflating: yes/Y147.JPG            \n",
            "  inflating: yes/Y153.jpg            \n",
            "  inflating: yes/Y108.jpg            \n",
            "  inflating: yes/Y120.JPG            \n",
            "  inflating: yes/Y242.JPG            \n",
            "  inflating: yes/Y256.JPG            \n",
            "  inflating: yes/Y18.JPG             \n",
            "  inflating: yes/Y24.jpg             \n",
            "  inflating: yes/Y30.jpg             \n",
            "  inflating: yes/Y31.jpg             \n",
            "  inflating: yes/Y25.jpg             \n",
            "  inflating: yes/Y19.JPG             \n",
            "  inflating: yes/Y257.jpg            \n",
            "  inflating: yes/Y243.JPG            \n",
            "  inflating: yes/Y109.JPG            \n",
            "  inflating: yes/Y255.JPG            \n",
            "  inflating: yes/Y33.jpg             \n",
            "  inflating: yes/Y27.jpg             \n",
            "  inflating: yes/Y26.jpg             \n",
            "  inflating: yes/Y32.jpg             \n",
            "  inflating: yes/Y254.jpg            \n",
            "  inflating: yes/Y250.jpg            \n",
            "  inflating: yes/Y244.JPG            \n",
            "  inflating: yes/Y36.JPG             \n",
            "  inflating: yes/Y22.jpg             \n",
            "  inflating: yes/Y23.JPG             \n",
            "  inflating: yes/Y37.jpg             \n",
            "  inflating: yes/Y245.jpg            \n",
            "  inflating: yes/Y251.JPG            \n",
            "  inflating: yes/Y247.JPG            \n",
            "  inflating: yes/Y253.JPG            \n",
            "  inflating: yes/Y21.jpg             \n",
            "  inflating: yes/Y35.jpg             \n",
            "  inflating: yes/Y34.jpg             \n",
            "  inflating: yes/Y20.jpg             \n",
            "  inflating: yes/Y252.jpg            \n",
            "  inflating: yes/Y246.JPG            \n",
            "  inflating: yes/Y115.JPG            \n",
            "  inflating: yes/Y101.jpg            \n",
            "  inflating: yes/Y39.jpg             \n",
            "  inflating: yes/Y11.jpg             \n",
            "  inflating: yes/Y10.jpg             \n",
            "  inflating: yes/Y38.jpg             \n",
            "  inflating: yes/Y100.JPG            \n",
            "  inflating: yes/Y114.JPG            \n",
            "  inflating: yes/Y102.jpg            \n",
            "  inflating: yes/Y116.JPG            \n",
            "  inflating: yes/Y248.JPG            \n",
            "  inflating: yes/Y12.jpg             \n",
            "  inflating: yes/Y13.jpg             \n",
            "  inflating: yes/Y249.JPG            \n",
            "  inflating: yes/Y117.JPG            \n",
            "  inflating: yes/Y103.jpg            \n",
            "  inflating: yes/Y107.jpg            \n",
            "  inflating: yes/Y113.JPG            \n",
            "  inflating: yes/Y259.JPG            \n",
            "  inflating: yes/Y17.jpg             \n",
            "  inflating: yes/Y16.JPG             \n",
            "  inflating: yes/Y258.JPG            \n",
            "  inflating: yes/Y112.JPG            \n",
            "  inflating: yes/Y106.jpg            \n",
            "  inflating: yes/Y104.jpg            \n",
            "  inflating: yes/Y14.jpg             \n",
            "  inflating: yes/Y28.jpg             \n",
            "  inflating: yes/Y29.jpg             \n",
            "  inflating: yes/Y15.jpg             \n",
            "  inflating: yes/Y105.jpg            \n",
            "  inflating: yes/Y111.JPG            \n",
            "  inflating: yes/Y162.jpg            \n",
            "  inflating: yes/Y99.JPG             \n",
            "  inflating: yes/Y66.JPG             \n",
            "  inflating: yes/Y73.jpg             \n",
            "  inflating: yes/Y67.JPG             \n",
            "  inflating: yes/Y98.JPG             \n",
            "  inflating: yes/Y188.jpg            \n",
            "  inflating: yes/Y163.JPG            \n",
            "  inflating: yes/Y161.JPG            \n",
            "  inflating: yes/Y59.JPG             \n",
            "  inflating: yes/Y71.JPG             \n",
            "  inflating: yes/Y65.JPG             \n",
            "  inflating: yes/Y70.jpg             \n",
            "  inflating: yes/Y58.JPG             \n",
            "  inflating: yes/Y160.JPG            \n",
            "  inflating: yes/Y148.JPG            \n",
            "  inflating: yes/Y164.JPG            \n",
            "  inflating: yes/Y170.JPG            \n",
            "  inflating: yes/Y158.JPG            \n",
            "  inflating: yes/Y9.jpg              \n",
            "  inflating: yes/Y74.jpg             \n",
            "  inflating: yes/Y60.jpg             \n",
            "  inflating: yes/Y49.JPG             \n",
            "  inflating: yes/Y61.jpg             \n",
            "  inflating: yes/Y75.JPG             \n",
            "  inflating: yes/Y8.jpg              \n",
            "  inflating: yes/Y159.JPG            \n",
            "  inflating: yes/Y165.JPG            \n",
            "  inflating: yes/Y167.JPG            \n",
            "  inflating: yes/Y77.jpg             \n",
            "  inflating: yes/Y76.jpg             \n",
            "  inflating: yes/Y62.jpg             \n",
            "  inflating: yes/Y89.JPG             \n",
            "  inflating: yes/Y166.JPG            \n"
          ]
        }
      ]
    },
    {
      "cell_type": "code",
      "source": [
        "!ls\n"
      ],
      "metadata": {
        "colab": {
          "base_uri": "https://localhost:8080/"
        },
        "id": "8HqnSjwffzCP",
        "outputId": "906f8101-ccbc-4a1c-a63a-8a4bd8d777db"
      },
      "execution_count": null,
      "outputs": [
        {
          "output_type": "stream",
          "name": "stdout",
          "text": [
            "__MACOSX  sample_data  yes  yes.zip\n"
          ]
        }
      ]
    },
    {
      "cell_type": "code",
      "source": [],
      "metadata": {
        "id": "IaQWfer8gfQq"
      },
      "execution_count": null,
      "outputs": []
    },
    {
      "cell_type": "code",
      "source": [
        "#load and show an image with Pillow\n",
        "from PIL import Image\n",
        "# load the image\n",
        "image = Image.open('/content/yes/Y1.jpg')\n",
        "# summarize some details about the image\n",
        "print(image.format)\n",
        "print(image.mode)\n",
        "print(image.size)\n",
        "# show the imageimage.show"
      ],
      "metadata": {
        "id": "DcHmDkc4WMXu",
        "colab": {
          "base_uri": "https://localhost:8080/"
        },
        "outputId": "a0016008-0834-4d41-8bda-2a76c1fed7df"
      },
      "execution_count": null,
      "outputs": [
        {
          "output_type": "stream",
          "name": "stdout",
          "text": [
            "JPEG\n",
            "RGB\n",
            "(180, 218)\n"
          ]
        }
      ]
    },
    {
      "cell_type": "code",
      "source": [
        "# load and display an image with Matplotlib\n",
        "from matplotlib import image\n",
        "from matplotlib import pyplot\n",
        "# load image as pixel array\n",
        "data = image.imread('/content/yes/Y1.jpg')\n",
        "# summarize shape of the pixel array\n",
        "print(data.dtype)\n",
        "print(data.shape)\n",
        "# display the array of pixels as an image\n",
        "pyplot.imshow(data)\n",
        "pyplot.show()"
      ],
      "metadata": {
        "colab": {
          "base_uri": "https://localhost:8080/",
          "height": 303
        },
        "id": "TcCAQmgXrX3X",
        "outputId": "b0a520b0-c027-4faa-d0d7-04fcecbcf13e"
      },
      "execution_count": null,
      "outputs": [
        {
          "output_type": "stream",
          "name": "stdout",
          "text": [
            "uint8\n",
            "(218, 180, 3)\n"
          ]
        },
        {
          "output_type": "display_data",
          "data": {
            "text/plain": [
              "<Figure size 432x288 with 1 Axes>"
            ],
            "image/png": "[encoded data removed]"
          },
          "metadata": {
            "needs_background": "light"
          }
        }
      ]
    },
    {
      "cell_type": "code",
      "source": [
        "# resize image and force a new shape\n",
        "from PIL import Image\n",
        "# load the image\n",
        "image = Image.open('/content/yes/Y1.jpg')\n",
        "# report the size of the image\n",
        "print(image.size)\n",
        "# resize image and ignore original aspect ratio\n",
        "img_resized = image.resize((200,200))\n",
        "# report the size of the thumbnail\n",
        "print(img_resized.size)"
      ],
      "metadata": {
        "colab": {
          "base_uri": "https://localhost:8080/"
        },
        "id": "vfqiryEyruVG",
        "outputId": "c7494454-e25a-4d5c-cc4b-119347e310ac"
      },
      "execution_count": null,
      "outputs": [
        {
          "output_type": "stream",
          "name": "stdout",
          "text": [
            "(180, 218)\n",
            "(200, 200)\n"
          ]
        }
      ]
    },
    {
      "cell_type": "code",
      "source": [
        "# example of saving a grayscale version of a loaded image\n",
        "from PIL import Image\n",
        "# load the image\n",
        "image = Image.open('/content/yes/Y1.jpg')\n",
        "# convert the image to grayscale\n",
        "gs_image = image.convert(mode='L')\n",
        "# save in jpeg format\n",
        "gs_image.save('/content/yes/Y1_grayscale.jpg')\n",
        "# load the image again and show it\n",
        "image2 = Image.open('/content/yes/Y1_grayscale.jpg')\n",
        "# show the image\n",
        "image2.show()"
      ],
      "metadata": {
        "id": "aa9QKc_ssz85"
      },
      "execution_count": null,
      "outputs": []
    },
    {
      "cell_type": "code",
      "source": [
        "# example of cropping an image\n",
        "from PIL import Image\n",
        "# load image\n",
        "image = Image.open('/content/yes/Y1_grayscale.jpg')\n",
        "# create a cropped image\n",
        "cropped = image.crop((100, 100, 200, 200))\n",
        "# show cropped image\n",
        "cropped.show()"
      ],
      "metadata": {
        "id": "-PZOiL1UyaNI"
      },
      "execution_count": null,
      "outputs": []
    },
    {
      "cell_type": "markdown",
      "source": [
        "Directory for Images"
      ],
      "metadata": {
        "id": "cLnfDAhmRzRQ"
      }
    },
    {
      "cell_type": "code",
      "source": [
        "# load all images in a directory\n",
        "from os import listdir\n",
        "from matplotlib import image\n",
        "# load all images in a directory\n",
        "loaded_images = list('yes')\n",
        "for filename in listdir('yes'):\n",
        "\t# load image\n",
        "\timg_data = image.imread('yes/' + filename)\n",
        "\t# store loaded image\n",
        "\tloaded_images.append(img_data)\n",
        "\tprint('> loaded %s %s' % (filename, img_data.shape))"
      ],
      "metadata": {
        "id": "YSbAIAoYywCO",
        "colab": {
          "base_uri": "https://localhost:8080/"
        },
        "outputId": "1f57ef34-37d2-45d1-d094-de6a6e848754"
      },
      "execution_count": null,
      "outputs": [
        {
          "output_type": "stream",
          "name": "stdout",
          "text": [
            "> loaded Y120.JPG (245, 224, 3)\n",
            "> loaded Y18.JPG (354, 279, 3)\n",
            "> loaded Y97.JPG (355, 272, 3)\n",
            "> loaded Y194.jpg (256, 256, 3)\n",
            "> loaded Y108.jpg (1200, 1059, 3)\n",
            "> loaded Y104.jpg (890, 700, 3)\n",
            "> loaded Y165.JPG (303, 223, 3)\n",
            "> loaded Y69.jpg (630, 504, 3)\n",
            "> loaded Y14.jpg (300, 289)\n",
            "> loaded Y170.JPG (355, 290, 3)\n",
            "> loaded Y193.JPG (351, 262, 3)\n",
            "> loaded Y6.jpg (938, 911, 3)\n",
            "> loaded Y35.jpg (446, 450, 3)\n",
            "> loaded Y29.jpg (630, 630, 3)\n",
            "> loaded Y252.jpg (256, 197, 3)\n",
            "> loaded Y37.jpg (360, 319)\n",
            "> loaded Y146.JPG (355, 311, 3)\n",
            "> loaded Y7.jpg (456, 374, 3)\n",
            "> loaded Y9.jpg (630, 630, 3)\n",
            "> loaded Y75.JPG (338, 264, 3)\n",
            "> loaded Y164.JPG (336, 264, 3)\n",
            "> loaded Y65.JPG (243, 205, 3)\n",
            "> loaded Y78.jpg (251, 201, 3)\n",
            "> loaded Y92.png (300, 240)\n",
            "> loaded Y42.jpg (210, 200, 3)\n",
            "> loaded Y44.JPG (337, 293, 3)\n",
            "> loaded Y148.JPG (283, 231, 3)\n",
            "> loaded Y180.jpg (586, 467, 3)\n",
            "> loaded Y8.jpg (446, 450, 3)\n",
            "> loaded Y157.JPG (309, 232, 3)\n",
            "> loaded Y54.jpg (325, 300)\n",
            "> loaded Y86.JPG (350, 272, 3)\n",
            "> loaded Y114.JPG (249, 178, 3)\n",
            "> loaded Y105.jpg (246, 205, 3)\n",
            "> loaded Y99.JPG (357, 283, 3)\n",
            "> loaded Y4.jpg (225, 225, 3)\n",
            "> loaded Y77.jpg (353, 300, 3)\n",
            "> loaded Y169.jpg (325, 254, 3)\n",
            "> loaded Y163.JPG (316, 270, 3)\n",
            "> loaded Y167.JPG (350, 272, 3)\n",
            "> loaded Y257.jpg (960, 781, 3)\n",
            "> loaded Y245.jpg (237, 213, 3)\n",
            "> loaded Y254.jpg (251, 201, 3)\n",
            "> loaded Y188.jpg (879, 766, 3)\n",
            "> loaded Y246.JPG (355, 294, 3)\n",
            "> loaded Y109.JPG (279, 258, 3)\n",
            "> loaded Y22.jpg (380, 294, 3)\n",
            "> loaded Y92.jpg (260, 194, 3)\n",
            "> loaded Y62.jpg (294, 250)\n",
            "> loaded Y58.JPG (340, 314, 3)\n",
            "> loaded Y253.JPG (338, 283, 3)\n",
            "> loaded Y100.JPG (348, 287, 3)\n",
            "> loaded Y147.JPG (352, 321, 3)\n",
            "> loaded Y91.jpg (1280, 1061, 3)\n",
            "> loaded Y168.jpg (300, 263, 3)\n",
            "> loaded Y21.jpg (247, 204, 3)\n",
            "> loaded Y251.JPG (349, 278, 3)\n",
            "> loaded Y19.JPG (359, 297, 3)\n",
            "> loaded Y34.jpg (380, 310, 3)\n",
            "> loaded Y27.jpg (630, 630, 3)\n",
            "> loaded Y59.JPG (270, 229, 3)\n",
            "> loaded Y79.jpg (431, 400, 3)\n",
            "> loaded Y98.JPG (323, 276, 3)\n",
            "> loaded Y244.JPG (351, 278, 3)\n",
            "> loaded Y60.jpg (255, 197, 3)\n",
            "> loaded Y67.JPG (233, 215, 3)\n",
            "> loaded Y2.jpg (212, 209, 3)\n",
            "> loaded Y243.JPG (331, 272, 3)\n",
            "> loaded Y70.jpg (325, 300)\n",
            "> loaded Y96.jpg (938, 864, 3)\n",
            "> loaded Y28.jpg (630, 630, 3)\n",
            "> loaded Y103.jpg (993, 825, 3)\n",
            "> loaded Y249.JPG (331, 260, 3)\n",
            "> loaded Y12.jpg (500, 377)\n",
            "> loaded Y255.JPG (295, 283, 3)\n",
            "> loaded Y41.jpg (1427, 1275)\n",
            "> loaded Y182.JPG (318, 273, 3)\n",
            "> loaded Y192.JPG (342, 273, 3)\n",
            "> loaded Y258.JPG (349, 292, 3)\n",
            "> loaded Y85.JPG (308, 244, 3)\n",
            "> loaded Y50.JPG (350, 315, 3)\n",
            "> loaded Y20.jpg (300, 240, 3)\n",
            "> loaded Y31.jpg (294, 250)\n",
            "> loaded Y39.jpg (278, 236)\n",
            "> loaded Y156.JPG (370, 286, 3)\n",
            "> loaded Y195.JPG (340, 314, 3)\n",
            "> loaded Y32.jpg (555, 526, 3)\n",
            "> loaded Y17.jpg (300, 289)\n",
            "> loaded Y73.jpg (290, 250, 3)\n",
            "> loaded Y117.JPG (310, 246, 3)\n",
            "> loaded Y76.jpg (442, 353, 3)\n",
            "> loaded Y71.JPG (349, 300, 3)\n",
            "> loaded Y16.JPG (360, 313, 3)\n",
            "> loaded Y185.jpg (380, 318, 3)\n",
            "> loaded Y111.JPG (324, 272, 3)\n",
            "> loaded Y153.jpg (359, 300, 3)\n",
            "> loaded Y247.JPG (338, 248, 3)\n",
            "> loaded Y36.JPG (251, 204, 3)\n",
            "> loaded Y13.jpg (325, 254, 3)\n",
            "> loaded Y155_grayscale.jpg (355, 310)\n",
            "> loaded Y161.JPG (351, 273, 3)\n",
            "> loaded Y155.JPG (355, 310, 3)\n",
            "> loaded Y160.JPG (348, 297, 3)\n",
            "> loaded Y250.jpg (236, 213, 3)\n",
            "> loaded Y90.jpg (512, 512, 3)\n",
            "> loaded Y61.jpg (520, 433, 3)\n",
            "> loaded Y101.jpg (336, 300)\n",
            "> loaded Y26.jpg (630, 628, 3)\n",
            "> loaded Y40.JPG (365, 306, 3)\n",
            "> loaded Y24.jpg (1024, 1024)\n",
            "> loaded Y55.jpg (620, 620, 3)\n",
            "> loaded Y154.jpg (431, 400, 3)\n",
            "> loaded Y45.JPG (340, 291, 3)\n",
            "> loaded Y66.JPG (340, 288, 3)\n",
            "> loaded Y116.JPG (269, 249, 3)\n",
            "> loaded Y242.JPG (344, 279, 3)\n",
            "> loaded Y82.jpg (223, 226, 3)\n",
            "> loaded Y248.JPG (315, 289, 3)\n",
            "> loaded Y1.jpg (218, 180, 3)\n",
            "> loaded Y187.jpg (244, 206, 3)\n",
            "> loaded Y3.jpg (519, 456, 3)\n",
            "> loaded Y52.jpg (938, 911)\n",
            "> loaded Y10.jpg (360, 319)\n",
            "> loaded Y15.jpg (380, 310, 3)\n",
            "> loaded Y184.JPG (173, 189, 3)\n",
            "> loaded Y25.jpg (630, 504, 3)\n",
            "> loaded Y89.JPG (286, 241, 3)\n",
            "> loaded Y106.jpg (253, 200, 3)\n",
            "> loaded Y38.jpg (325, 300)\n",
            "> loaded Y112.JPG (366, 310, 3)\n",
            "> loaded Y49.JPG (307, 271, 3)\n",
            "> loaded Y81.jpg (234, 216, 3)\n",
            "> loaded Y30.jpg (325, 300)\n",
            "> loaded Y115.JPG (298, 260, 3)\n",
            "> loaded Y23.JPG (277, 272, 3)\n",
            "> loaded Y162.jpg (1200, 1059, 3)\n",
            "> loaded Y33.jpg (512, 512, 3)\n",
            "> loaded Y107.jpg (512, 512, 3)\n",
            "> loaded Y47.JPG (355, 320, 3)\n",
            "> loaded Y95.jpg (225, 225, 3)\n",
            "> loaded Y181.jpg (380, 310, 3)\n",
            "> loaded Y186.jpg (450, 355, 3)\n",
            "> loaded Y256.JPG (352, 281, 3)\n",
            "> loaded Y56.jpg (239, 211, 3)\n",
            "> loaded Y51.jpg (938, 911, 3)\n",
            "> loaded Y102.jpg (630, 587, 3)\n",
            "> loaded Y46.jpg (929, 634, 3)\n",
            "> loaded Y11.jpg (369, 400, 3)\n",
            "> loaded Y183.jpg (347, 300, 3)\n",
            "> loaded Y166.JPG (291, 253, 3)\n",
            "> loaded Y159.JPG (354, 303, 3)\n",
            "> loaded Y53.jpg (219, 230, 3)\n",
            "> loaded Y158.JPG (334, 283, 3)\n",
            "> loaded Y10_grayscale.jpg (360, 319)\n",
            "> loaded Y74.jpg (620, 620, 3)\n",
            "> loaded Y113.JPG (312, 254, 3)\n",
            "> loaded Y259.JPG (324, 278, 3)\n"
          ]
        }
      ]
    },
    {
      "cell_type": "markdown",
      "source": [
        "# New Section"
      ],
      "metadata": {
        "id": "S2wWGuxmzV8i"
      }
    },
    {
      "cell_type": "code",
      "source": [
        "ls yes"
      ],
      "metadata": {
        "colab": {
          "base_uri": "https://localhost:8080/"
        },
        "id": "_IHLklURR2gf",
        "outputId": "43ed516c-e3a6-4809-ec02-5fa136a826df"
      },
      "execution_count": null,
      "outputs": [
        {
          "output_type": "stream",
          "name": "stdout",
          "text": [
            "Y100.JPG  Y147.JPG  Y17.jpg           Y243.JPG  Y2.jpg   Y52.jpg  Y79.jpg\n",
            "Y101.jpg  Y148.JPG  Y180.jpg          Y244.JPG  Y30.jpg  Y53.jpg  Y7.jpg\n",
            "Y102.jpg  Y14.jpg   Y181.jpg          Y245.jpg  Y31.jpg  Y54.jpg  Y81.jpg\n",
            "Y103.jpg  Y153.jpg  Y182.JPG          Y246.JPG  Y32.jpg  Y55.jpg  Y82.jpg\n",
            "Y104.jpg  Y154.jpg  Y183.jpg          Y247.JPG  Y33.jpg  Y56.jpg  Y85.JPG\n",
            "Y105.jpg  Y155.JPG  Y184.JPG          Y248.JPG  Y34.jpg  Y58.JPG  Y86.JPG\n",
            "Y106.jpg  Y156.JPG  Y185.jpg          Y249.JPG  Y35.jpg  Y59.JPG  Y89.JPG\n",
            "Y107.jpg  Y157.JPG  Y186.jpg          Y24.jpg   Y36.JPG  Y60.jpg  Y8.jpg\n",
            "Y108.jpg  Y158.JPG  Y187.jpg          Y250.jpg  Y37.jpg  Y61.jpg  Y90.jpg\n",
            "Y109.JPG  Y159.JPG  Y188.jpg          Y251.JPG  Y38.jpg  Y62.jpg  Y91.jpg\n",
            "Y10.jpg   Y15.jpg   Y18.JPG           Y252.jpg  Y39.jpg  Y65.JPG  Y92.jpg\n",
            "Y111.JPG  Y160.JPG  Y192.JPG          Y253.JPG  Y3.jpg   Y66.JPG  Y92.png\n",
            "Y112.JPG  Y161.JPG  Y193.JPG          Y254.jpg  Y40.JPG  Y67.JPG  Y95.jpg\n",
            "Y113.JPG  Y162.jpg  Y194.jpg          Y255.JPG  Y41.jpg  Y69.jpg  Y96.jpg\n",
            "Y114.JPG  Y163.JPG  Y195.JPG          Y256.JPG  Y42.jpg  Y6.jpg   Y97.JPG\n",
            "Y115.JPG  Y164.JPG  Y19.JPG           Y257.jpg  Y44.JPG  Y70.jpg  Y98.JPG\n",
            "Y116.JPG  Y165.JPG  Y1_grayscale.jpg  Y258.JPG  Y45.JPG  Y71.JPG  Y99.JPG\n",
            "Y117.JPG  Y166.JPG  Y1.jpg            Y259.JPG  Y46.jpg  Y73.jpg  Y9.jpg\n",
            "Y11.jpg   Y167.JPG  Y20.jpg           Y25.jpg   Y47.JPG  Y74.jpg\n",
            "Y120.JPG  Y168.jpg  Y21.jpg           Y26.jpg   Y49.JPG  Y75.JPG\n",
            "Y12.jpg   Y169.jpg  Y22.jpg           Y27.jpg   Y4.jpg   Y76.jpg\n",
            "Y13.jpg   Y16.JPG   Y23.JPG           Y28.jpg   Y50.JPG  Y77.jpg\n",
            "Y146.JPG  Y170.JPG  Y242.JPG          Y29.jpg   Y51.jpg  Y78.jpg\n"
          ]
        }
      ]
    },
    {
      "cell_type": "code",
      "source": [],
      "metadata": {
        "id": "kbJ5Z97tAgqL"
      },
      "execution_count": null,
      "outputs": []
    }
  ]
}
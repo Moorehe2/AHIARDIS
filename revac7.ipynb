{
  "nbformat": 4,
  "nbformat_minor": 0,
  "metadata": {
    "colab": {
      "provenance": [],
      "authorship_tag": "ABX9TyO5kab5qmZ1YrN+7NavY0ff",
      "include_colab_link": true
    },
    "kernelspec": {
      "name": "python3",
      "display_name": "Python 3"
    },
    "language_info": {
      "name": "python"
    }
  },
  "cells": [
    {
      "cell_type": "markdown",
      "metadata": {
        "id": "view-in-github",
        "colab_type": "text"
      },
      "source": [
        "<a href=\"https://colab.research.google.com/github/Moorehe2/AHIARDIS/blob/main/revac7.ipynb\" target=\"_parent\"><img src=\"https://colab.research.google.com/assets/colab-badge.svg\" alt=\"Open In Colab\"/></a>"
      ]
    },
    {
      "cell_type": "code",
      "execution_count": null,
      "metadata": {
        "colab": {
          "base_uri": "https://localhost:8080/"
        },
        "id": "gyzPX1M5fd1y",
        "outputId": "312e8259-b9e0-4a9b-aec5-0d5a1b587997"
      },
      "outputs": [
        {
          "output_type": "stream",
          "name": "stdout",
          "text": [
            "Collecting mysql-connector-python\n",
            "  Downloading mysql_connector_python-8.0.27-cp37-cp37m-manylinux1_x86_64.whl (38.0 MB)\n",
            "\u001b[K     |████████████████████████████████| 38.0 MB 1.5 MB/s \n",
            "\u001b[?25hRequirement already satisfied: protobuf>=3.0.0 in /usr/local/lib/python3.7/dist-packages (from mysql-connector-python) (3.17.3)\n",
            "Requirement already satisfied: six>=1.9 in /usr/local/lib/python3.7/dist-packages (from protobuf>=3.0.0->mysql-connector-python) (1.15.0)\n",
            "Installing collected packages: mysql-connector-python\n",
            "Successfully installed mysql-connector-python-8.0.27\n"
          ]
        }
      ],
      "source": [
        "pip install mysql-connector-python"
      ]
    },
    {
      "cell_type": "code",
      "source": [
        "import mysql.connector\n",
        "from mysql.connector import errorcode\n",
        "import pandas as pd\n",
        "\n"
      ],
      "metadata": {
        "id": "Hnjc6beZn1Hd"
      },
      "execution_count": null,
      "outputs": []
    },
    {
      "cell_type": "code",
      "source": [
        "df = pd.read_csv('https://raw.githubusercontent.com/Moorehe2/Fluvaccine/main/H1N1_Flu_Vaccines.csv?token=AV2W5NMGZGXYJQXMMZVSKADBYLKK2')"
      ],
      "metadata": {
        "id": "rzDqo9T9oGTJ"
      },
      "execution_count": null,
      "outputs": []
    },
    {
      "cell_type": "code",
      "source": [
        "print (df)"
      ],
      "metadata": {
        "colab": {
          "base_uri": "https://localhost:8080/"
        },
        "id": "_9PnMW6Xp0B8",
        "outputId": "1f236024-7caf-4353-bb2c-86fe2eaff960"
      },
      "execution_count": null,
      "outputs": [
        {
          "output_type": "stream",
          "name": "stdout",
          "text": [
            "       respondent_id  h1n1_concern  ...  h1n1_vaccine  seasonal_vaccine\n",
            "0                  0           1.0  ...             0                 0\n",
            "1                  1           3.0  ...             0                 1\n",
            "2                  2           1.0  ...             0                 0\n",
            "3                  3           1.0  ...             0                 1\n",
            "4                  4           2.0  ...             0                 0\n",
            "...              ...           ...  ...           ...               ...\n",
            "26702          26702           2.0  ...             0                 0\n",
            "26703          26703           1.0  ...             0                 0\n",
            "26704          26704           2.0  ...             0                 1\n",
            "26705          26705           1.0  ...             0                 0\n",
            "26706          26706           0.0  ...             0                 0\n",
            "\n",
            "[26707 rows x 38 columns]\n"
          ]
        }
      ]
    },
    {
      "cell_type": "markdown",
      "source": [
        "Obtain connection string infortmation from the portal"
      ],
      "metadata": {
        "id": "iNrj3a_tp5Vb"
      }
    },
    {
      "cell_type": "code",
      "source": [
        "\n",
        "config = {\n",
        "  'host':'<amahi>.mysql.database.azure.com',\n",
        "  'user':'<dba>@<amahi>',\n",
        "  'password':'<Ahi2021ahi2021>',\n",
        "  'database':'<df>',\n",
        "  'client_flags': [mysql.connector.ClientFlag.SSL],\n",
        "  "
      ],
      "metadata": {
        "colab": {
          "base_uri": "https://localhost:8080/",
          "height": 130
        },
        "id": "R9RG0zcPqCc0",
        "outputId": "1aef70ed-afea-411b-be4a-f6a04d1ce681"
      },
      "execution_count": null,
      "outputs": [
        {
          "output_type": "error",
          "ename": "SyntaxError",
          "evalue": "ignored",
          "traceback": [
            "\u001b[0;36m  File \u001b[0;32m\"<ipython-input-13-1509779c237c>\"\u001b[0;36m, line \u001b[0;32m8\u001b[0m\n\u001b[0;31m    \u001b[0m\n\u001b[0m    ^\u001b[0m\n\u001b[0;31mSyntaxError\u001b[0m\u001b[0;31m:\u001b[0m unexpected EOF while parsing\n"
          ]
        }
      ]
    },
    {
      "cell_type": "code",
      "source": [
        "import mysql.connector\n",
        "from mysql.connector import errorcode\n",
        "\n",
        "# Obtain connection string information from the portal\n",
        "\n",
        "config = {\n",
        "  'host':'<mydemoserver>.mysql.database.azure.com',\n",
        "  'user':'<myadmin>@<mydemoserver>',\n",
        "  'password':'<mypassword>',\n",
        "  'database':'<mydatabase>',\n",
        "  'client_flags': [mysql.connector.ClientFlag.SSL],\n",
        "  'ssl_ca': '<path-to-SSL-cert>/DigiCertGlobalRootG2.crt.pem'\n",
        "}\n",
        "\n",
        "# Construct connection string\n",
        "\n",
        "try:\n",
        "   conn = mysql.connector.connect(**config)\n",
        "   print(\"Connection established\")\n",
        "except mysql.connector.Error as err:\n",
        "  if err.errno == errorcode.ER_ACCESS_DENIED_ERROR:\n",
        "    print(\"Something is wrong with the user name or password\")\n",
        "  elif err.errno == errorcode.ER_BAD_DB_ERROR:\n",
        "    print(\"Database does not exist\")\n",
        "  else:\n",
        "    print(err)\n",
        "else:\n",
        "  cursor = conn.cursor()\n",
        "\n",
        "  # Drop previous table of same name if one exists\n",
        "  cursor.execute(\"DROP TABLE IF EXISTS inventory;\")\n",
        "  print(\"Finished dropping table (if existed).\")\n",
        "\n",
        "  # Create table\n",
        "  cursor.execute(\"CREATE TABLE inventory (id serial PRIMARY KEY, name VARCHAR(50), quantity INTEGER);\")\n",
        "  print(\"Finished creating table.\")\n",
        "\n",
        "  # Insert some data into table\n",
        "  cursor.execute(\"INSERT INTO inventory (name, quantity) VALUES (%s, %s);\", (\"banana\", 150))\n",
        "  print(\"Inserted\",cursor.rowcount,\"row(s) of data.\")\n",
        "  cursor.execute(\"INSERT INTO inventory (name, quantity) VALUES (%s, %s);\", (\"orange\", 154))\n",
        "  print(\"Inserted\",cursor.rowcount,\"row(s) of data.\")\n",
        "  cursor.execute(\"INSERT INTO inventory (name, quantity) VALUES (%s, %s);\", (\"apple\", 100))\n",
        "  print(\"Inserted\",cursor.rowcount,\"row(s) of data.\")\n",
        "\n",
        "  # Cleanup\n",
        "  conn.commit()\n",
        "  cursor.close()\n",
        "  conn.close()\n",
        "  print(\"Done.\")\n",
        "\n",
        "\n",
        "\n",
        "\n",
        "\n",
        "\n",
        "\n",
        "\n",
        "# Obtain connection string information from the portal\n",
        "\n",
        "df = pd.read_csv('https://raw.githubusercontent.com/Moorehe2/Fluvaccine/main/H1N1_Flu_Vaccines.csv?token=AV2W5NMGZGXYJQXMMZVSKADBYLKK2')\n",
        "# Construct connection string\n",
        "\n",
        "try:\n",
        "   conn = mysql.connector.connect(**config)\n",
        "   print(\"Connection established\")\n",
        "except mysql.connector.Error as err:\n",
        "  if err.errno == errorcode.ER_ACCESS_DENIED_ERROR:\n",
        "    print(\"Something is wrong with the user name or password\")\n",
        "  elif err.errno == errorcode.ER_BAD_DB_ERROR:\n",
        "    print(\"Database does not exist\")\n",
        "  else:\n",
        "    print(err)\n",
        "else:\n",
        "  cursor = conn.cursor()\n",
        "\n",
        "  # Drop previous table of same name if one exists\n",
        "  cursor.execute(\"DROP TABLE IF EXISTS inventory;\")\n",
        "  print(\"Finished dropping table (if existed).\")\n",
        "\n",
        "  # Create table\n",
        "  cursor.execute(\"CREATE TABLE H1N1(id serial PRIMARY KEY, name VARCHAR(50), quantity INTEGER);\")\n",
        "  print(\"Finished creating table.\")\n",
        "\n",
        "  # Cleanup\n",
        "  conn.commit()\n",
        "  cursor.close()\n",
        "  conn.close()\n",
        "  print(\"Done.\")"
      ],
      "metadata": {
        "id": "VWY4mZ06fkAB"
      },
      "execution_count": null,
      "outputs": []
    },
    {
      "cell_type": "code",
      "source": [],
      "metadata": {
        "id": "TwHiSQqgnXdQ"
      },
      "execution_count": null,
      "outputs": []
    }
  ]
}
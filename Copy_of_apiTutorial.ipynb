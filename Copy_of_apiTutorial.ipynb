{
  "nbformat": 4,
  "nbformat_minor": 0,
  "metadata": {
    "colab": {
      "provenance": [],
      "include_colab_link": true
    },
    "kernelspec": {
      "name": "python3",
      "display_name": "Python 3"
    },
    "language_info": {
      "name": "python"
    }
  },
  "cells": [
    {
      "cell_type": "markdown",
      "metadata": {
        "id": "view-in-github",
        "colab_type": "text"
      },
      "source": [
        "<a href=\"https://colab.research.google.com/github/Moorehe2/AHIARDIS/blob/main/Copy_of_apiTutorial.ipynb\" target=\"_parent\"><img src=\"https://colab.research.google.com/assets/colab-badge.svg\" alt=\"Open In Colab\"/></a>"
      ]
    },
    {
      "cell_type": "code",
      "metadata": {
        "id": "_-s_pSqDw-CE"
      },
      "source": [
        "import requests"
      ],
      "execution_count": null,
      "outputs": []
    },
    {
      "cell_type": "code",
      "metadata": {
        "id": "GQ8kZsaWxWMm"
      },
      "source": [
        "jsonResponse = requests.get('http://api.open-notify.org/iss-now.json')"
      ],
      "execution_count": null,
      "outputs": []
    },
    {
      "cell_type": "code",
      "metadata": {
        "colab": {
          "base_uri": "https://localhost:8080/"
        },
        "id": "5BK5mm5AywvY",
        "outputId": "c79fc206-7074-4173-f9f3-3664e3e98236"
      },
      "source": [
        "jsonResponse.status_code"
      ],
      "execution_count": null,
      "outputs": [
        {
          "output_type": "execute_result",
          "data": {
            "text/plain": [
              "200"
            ]
          },
          "metadata": {},
          "execution_count": 7
        }
      ]
    },
    {
      "cell_type": "code",
      "metadata": {
        "colab": {
          "base_uri": "https://localhost:8080/"
        },
        "id": "TtGi2qMe0tOe",
        "outputId": "ff049e35-a32e-40ce-890d-f2372b6273b0"
      },
      "source": [
        "jsonResponse.json()"
      ],
      "execution_count": null,
      "outputs": [
        {
          "output_type": "execute_result",
          "data": {
            "text/plain": [
              "{'iss_position': {'latitude': '16.5565', 'longitude': '108.8154'},\n",
              " 'message': 'success',\n",
              " 'timestamp': 1633573960}"
            ]
          },
          "metadata": {},
          "execution_count": 8
        }
      ]
    },
    {
      "cell_type": "code",
      "metadata": {
        "colab": {
          "base_uri": "https://localhost:8080/"
        },
        "id": "EfT9oEV91LUR",
        "outputId": "4fa6cc24-42ad-4276-80a8-75807a7d2974"
      },
      "source": [
        "jsonResponse2 = requests.get('http://api.open-notify.org/astros.json')\n",
        "jsonResponse2.json()"
      ],
      "execution_count": null,
      "outputs": [
        {
          "output_type": "execute_result",
          "data": {
            "text/plain": [
              "{'message': 'success',\n",
              " 'number': 10,\n",
              " 'people': [{'craft': 'ISS', 'name': 'Mark Vande Hei'},\n",
              "  {'craft': 'ISS', 'name': 'Oleg Novitskiy'},\n",
              "  {'craft': 'ISS', 'name': 'Pyotr Dubrov'},\n",
              "  {'craft': 'ISS', 'name': 'Thomas Pesquet'},\n",
              "  {'craft': 'ISS', 'name': 'Megan McArthur'},\n",
              "  {'craft': 'ISS', 'name': 'Shane Kimbrough'},\n",
              "  {'craft': 'ISS', 'name': 'Akihiko Hoshide'},\n",
              "  {'craft': 'ISS', 'name': 'Anton Shkaplerov'},\n",
              "  {'craft': 'ISS', 'name': 'Klim Shipenko'},\n",
              "  {'craft': 'ISS', 'name': 'Yulia Pereslid'}]}"
            ]
          },
          "metadata": {},
          "execution_count": 9
        }
      ]
    },
    {
      "cell_type": "code",
      "metadata": {
        "id": "eB14rEG04nRs"
      },
      "source": [],
      "execution_count": null,
      "outputs": []
    },
    {
      "cell_type": "code",
      "metadata": {
        "id": "qKy5EjVE5120"
      },
      "source": [],
      "execution_count": null,
      "outputs": []
    },
    {
      "cell_type": "code",
      "metadata": {
        "id": "iQYgxhBnKNPO"
      },
      "source": [],
      "execution_count": null,
      "outputs": []
    }
  ]
}
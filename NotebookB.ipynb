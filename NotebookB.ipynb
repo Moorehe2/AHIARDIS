{
  "nbformat": 4,
  "nbformat_minor": 0,
  "metadata": {
    "colab": {
      "name": "NotebookB.ipynb",
      "provenance": [],
      "authorship_tag": "ABX9TyOxtz6rwMoJuFwWTop1eRDn",
      "include_colab_link": true
    },
    "kernelspec": {
      "name": "python3",
      "display_name": "Python 3"
    },
    "language_info": {
      "name": "python"
    }
  },
  "cells": [
    {
      "cell_type": "markdown",
      "metadata": {
        "id": "view-in-github",
        "colab_type": "text"
      },
      "source": [
        "<a href=\"https://colab.research.google.com/github/Moorehe2/AHIARDIS/blob/main/NotebookB.ipynb\" target=\"_parent\"><img src=\"https://colab.research.google.com/assets/colab-badge.svg\" alt=\"Open In Colab\"/></a>"
      ]
    },
    {
      "cell_type": "code",
      "execution_count": null,
      "metadata": {
        "id": "XqtPFpUEVysm"
      },
      "outputs": [],
      "source": [
        "import tensorflow as tf\n",
        "from keras.preprocessing.image import ImageDataGenerator\n",
        "import cv2\n",
        "import imutils\n",
        "import matplotlib.pyplot as plt\n",
        "from os import listdir\n",
        "import time    \n",
        "\n",
        "%matplotlib inline"
      ]
    },
    {
      "cell_type": "code",
      "source": [
        "# Nicely formatted time string\n",
        "def hms_string(sec_elapsed):\n",
        "    h = int(sec_elapsed / (60 * 60))\n",
        "    m = int((sec_elapsed % (60 * 60)) / 60)\n",
        "    s = sec_elapsed % 60\n",
        "    return f\"{h}:{m}:{round(s,1)}\""
      ],
      "metadata": {
        "id": "1_OiVXejV3o1"
      },
      "execution_count": null,
      "outputs": []
    },
    {
      "cell_type": "code",
      "source": [
        "def augment_data(file_dir, n_generated_samples, save_to_dir):\n",
        "    \"\"\"\n",
        "    Arguments:\n",
        "        file_dir: A string representing the directory where images that we want to augment are found.\n",
        "        n_generated_samples: A string representing the number of generated samples using the given image.\n",
        "        save_to_dir: A string representing the directory in which the generated images will be saved.\n",
        "    \"\"\"\n",
        "    \n",
        "    #from keras.preprocessing.image import ImageDataGenerator\n",
        "    #from os import listdir\n",
        "    \n",
        "    data_gen = ImageDataGenerator(rotation_range=10, \n",
        "                                  width_shift_range=0.1, \n",
        "                                  height_shift_range=0.1, \n",
        "                                  shear_range=0.1, \n",
        "                                  brightness_range=(0.3, 1.0),\n",
        "                                  horizontal_flip=True, \n",
        "                                  vertical_flip=True, \n",
        "                                  fill_mode='nearest'\n",
        "                                 )\n",
        "\n",
        "    \n",
        "    for filename in listdir(file_dir):\n",
        "        # load the image\n",
        "        image = cv2.imread(file_dir + '\\\\' + filename)\n",
        "        # reshape the image\n",
        "        image = image.reshape((1,)+image.shape)\n",
        "        # prefix of the names for the generated sampels.\n",
        "        save_prefix = 'aug_' + filename[:-4]\n",
        "        # generate 'n_generated_samples' sample images\n",
        "        i=0\n",
        "        for batch in data_gen.flow(x=image, batch_size=1, save_to_dir=save_to_dir, \n",
        "                                           save_prefix=save_prefix, save_format='jpg'):\n",
        "            i += 1\n",
        "            if i > n_generated_samples:\n",
        "                break"
      ],
      "metadata": {
        "id": "FTu6wJ14V_NK"
      },
      "execution_count": null,
      "outputs": []
    },
    {
      "cell_type": "code",
      "source": [
        "start_time = time.time()\n",
        "\n",
        "augmented_data_path = 'augmented data/'\n",
        "\n",
        "# augment data for the examples with label equal to 'yes' representing tumurous examples\n",
        "augment_data(file_dir=yes_path, n_generated_samples=6, save_to_dir=augmented_data_path+'yes')\n",
        "# augment data for the examples with label equal to 'no' representing non-tumurous examples\n",
        "augment_data(file_dir=no_path, n_generated_samples=9, save_to_dir=augmented_data_path+'no')\n",
        "\n",
        "end_time = time.time()\n",
        "execution_time = (end_time - start_time)\n",
        "print(f\"Elapsed time: {hms_string(execution_time)}\")"
      ],
      "metadata": {
        "colab": {
          "base_uri": "https://localhost:8080/",
          "height": 224
        },
        "id": "BNPhWXQwWIgL",
        "outputId": "b83c1eed-ae3c-4b8b-d11c-d778e7bb98a0"
      },
      "execution_count": null,
      "outputs": [
        {
          "output_type": "error",
          "ename": "NameError",
          "evalue": "ignored",
          "traceback": [
            "\u001b[0;31m---------------------------------------------------------------------------\u001b[0m",
            "\u001b[0;31mNameError\u001b[0m                                 Traceback (most recent call last)",
            "\u001b[0;32m<ipython-input-4-1da80345ff8f>\u001b[0m in \u001b[0;36m<module>\u001b[0;34m()\u001b[0m\n\u001b[1;32m      4\u001b[0m \u001b[0;34m\u001b[0m\u001b[0m\n\u001b[1;32m      5\u001b[0m \u001b[0;31m# augment data for the examples with label equal to 'yes' representing tumurous examples\u001b[0m\u001b[0;34m\u001b[0m\u001b[0;34m\u001b[0m\u001b[0;34m\u001b[0m\u001b[0m\n\u001b[0;32m----> 6\u001b[0;31m \u001b[0maugment_data\u001b[0m\u001b[0;34m(\u001b[0m\u001b[0mfile_dir\u001b[0m\u001b[0;34m=\u001b[0m\u001b[0myes_path\u001b[0m\u001b[0;34m,\u001b[0m \u001b[0mn_generated_samples\u001b[0m\u001b[0;34m=\u001b[0m\u001b[0;36m6\u001b[0m\u001b[0;34m,\u001b[0m \u001b[0msave_to_dir\u001b[0m\u001b[0;34m=\u001b[0m\u001b[0maugmented_data_path\u001b[0m\u001b[0;34m+\u001b[0m\u001b[0;34m'yes'\u001b[0m\u001b[0;34m)\u001b[0m\u001b[0;34m\u001b[0m\u001b[0;34m\u001b[0m\u001b[0m\n\u001b[0m\u001b[1;32m      7\u001b[0m \u001b[0;31m# augment data for the examples with label equal to 'no' representing non-tumurous examples\u001b[0m\u001b[0;34m\u001b[0m\u001b[0;34m\u001b[0m\u001b[0;34m\u001b[0m\u001b[0m\n\u001b[1;32m      8\u001b[0m \u001b[0maugment_data\u001b[0m\u001b[0;34m(\u001b[0m\u001b[0mfile_dir\u001b[0m\u001b[0;34m=\u001b[0m\u001b[0mno_path\u001b[0m\u001b[0;34m,\u001b[0m \u001b[0mn_generated_samples\u001b[0m\u001b[0;34m=\u001b[0m\u001b[0;36m9\u001b[0m\u001b[0;34m,\u001b[0m \u001b[0msave_to_dir\u001b[0m\u001b[0;34m=\u001b[0m\u001b[0maugmented_data_path\u001b[0m\u001b[0;34m+\u001b[0m\u001b[0;34m'no'\u001b[0m\u001b[0;34m)\u001b[0m\u001b[0;34m\u001b[0m\u001b[0;34m\u001b[0m\u001b[0m\n",
            "\u001b[0;31mNameError\u001b[0m: name 'yes_path' is not defined"
          ]
        }
      ]
    }
  ]
}
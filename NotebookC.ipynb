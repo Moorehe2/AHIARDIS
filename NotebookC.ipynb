{
  "nbformat": 4,
  "nbformat_minor": 0,
  "metadata": {
    "colab": {
      "provenance": [],
      "authorship_tag": "ABX9TyNmqF802J0xmhzqa8qZi+HG",
      "include_colab_link": true
    },
    "kernelspec": {
      "name": "python3",
      "display_name": "Python 3"
    },
    "language_info": {
      "name": "python"
    }
  },
  "cells": [
    {
      "cell_type": "markdown",
      "metadata": {
        "id": "view-in-github",
        "colab_type": "text"
      },
      "source": [
        "<a href=\"https://colab.research.google.com/github/Moorehe2/AHIARDIS/blob/main/NotebookC.ipynb\" target=\"_parent\"><img src=\"https://colab.research.google.com/assets/colab-badge.svg\" alt=\"Open In Colab\"/></a>"
      ]
    },
    {
      "cell_type": "markdown",
      "source": [
        "###LOAD IMAGES FOR BUILDING MODEL"
      ],
      "metadata": {
        "id": "opJmgKsNhhTY"
      }
    },
    {
      "cell_type": "code",
      "source": [],
      "metadata": {
        "id": "FWFUB-CNpxex"
      },
      "execution_count": null,
      "outputs": []
    },
    {
      "cell_type": "code",
      "source": [
        "def load_data(dir_list, image_size):\n",
        "    \"\"\"\n",
        "    Read images, resize and normalize them. \n",
        "    Arguments:\n",
        "        dir_list: list of strings representing file directories.\n",
        "    Returns:\n",
        "        X: A numpy array with shape = (#_examples, image_width, image_height, #_channels)\n",
        "        y: A numpy array with shape = (#_examples, 1)\n",
        "    \"\"\"\n",
        "\n",
        "    # load all images in a directory\n",
        "    X = []\n",
        "    y = []\n",
        "    image_width, image_height = image_size\n",
        "    \n",
        "    for directory in dir_list:\n",
        "        for filename in listdir(directory):\n",
        "            # load the image\n",
        "            image = cv2.imread(directory + '\\\\' + filename)\n",
        "            # crop the brain and ignore the unnecessary rest part of the image\n",
        "            image = crop_brain_contour(image, plot=False)\n",
        "            # resize image\n",
        "            image = cv2.resize(image, dsize=(image_width, image_height), interpolation=cv2.INTER_CUBIC)\n",
        "            # normalize values\n",
        "            image = image / 255.\n",
        "            # convert image to numpy array and append it to X\n",
        "            X.append(image)\n",
        "            # append a value of 1 to the target array if the image\n",
        "            # is in the folder named 'yes', otherwise append 0.\n",
        "            if directory[-3:] == 'yes':\n",
        "                y.append([1])\n",
        "            else:\n",
        "                y.append([0])\n",
        "                \n",
        "    X = np.array(X)\n",
        "    y = np.array(y)\n",
        "    \n",
        "    # Shuffle the data\n",
        "    X, y = shuffle(X, y)\n",
        "    \n",
        "    print(f'Number of examples is: {len(X)}')\n",
        "    print(f'X shape is: {X.shape}')\n",
        "    print(f'y shape is: {y.shape}')\n",
        "    \n",
        "    return X, y"
      ],
      "metadata": {
        "id": "MYVNxBq_hnAv"
      },
      "execution_count": null,
      "outputs": []
    },
    {
      "cell_type": "markdown",
      "source": [
        "###AUGMENTED DATA"
      ],
      "metadata": {
        "id": "5DpeilbrhjMP"
      }
    },
    {
      "cell_type": "code",
      "source": [
        "augmented_path = 'augmented data/'\n",
        "\n",
        "# augmented data (yes and no) contains both the original and the new generated examples\n",
        "augmented_yes = augmented_path + 'yes' \n",
        "augmented_no = augmented_path + 'no'\n",
        "\n",
        "IMG_WIDTH, IMG_HEIGHT = (240, 240)\n",
        "\n",
        "X, y = load_data([augmented_yes, augmented_no], (IMG_WIDTH, IMG_HEIGHT))"
      ],
      "metadata": {
        "id": "4BaYFPiKjHB1",
        "colab": {
          "base_uri": "https://localhost:8080/",
          "height": 317
        },
        "outputId": "2ad298d6-850d-46f4-8cf8-2002af6fb77c"
      },
      "execution_count": null,
      "outputs": [
        {
          "output_type": "error",
          "ename": "NameError",
          "evalue": "ignored",
          "traceback": [
            "\u001b[0;31m---------------------------------------------------------------------------\u001b[0m",
            "\u001b[0;31mNameError\u001b[0m                                 Traceback (most recent call last)",
            "\u001b[0;32m<ipython-input-2-dc128670d0d6>\u001b[0m in \u001b[0;36m<module>\u001b[0;34m()\u001b[0m\n\u001b[1;32m      7\u001b[0m \u001b[0mIMG_WIDTH\u001b[0m\u001b[0;34m,\u001b[0m \u001b[0mIMG_HEIGHT\u001b[0m \u001b[0;34m=\u001b[0m \u001b[0;34m(\u001b[0m\u001b[0;36m240\u001b[0m\u001b[0;34m,\u001b[0m \u001b[0;36m240\u001b[0m\u001b[0;34m)\u001b[0m\u001b[0;34m\u001b[0m\u001b[0;34m\u001b[0m\u001b[0m\n\u001b[1;32m      8\u001b[0m \u001b[0;34m\u001b[0m\u001b[0m\n\u001b[0;32m----> 9\u001b[0;31m \u001b[0mX\u001b[0m\u001b[0;34m,\u001b[0m \u001b[0my\u001b[0m \u001b[0;34m=\u001b[0m \u001b[0mload_data\u001b[0m\u001b[0;34m(\u001b[0m\u001b[0;34m[\u001b[0m\u001b[0maugmented_yes\u001b[0m\u001b[0;34m,\u001b[0m \u001b[0maugmented_no\u001b[0m\u001b[0;34m]\u001b[0m\u001b[0;34m,\u001b[0m \u001b[0;34m(\u001b[0m\u001b[0mIMG_WIDTH\u001b[0m\u001b[0;34m,\u001b[0m \u001b[0mIMG_HEIGHT\u001b[0m\u001b[0;34m)\u001b[0m\u001b[0;34m)\u001b[0m\u001b[0;34m\u001b[0m\u001b[0;34m\u001b[0m\u001b[0m\n\u001b[0m",
            "\u001b[0;32m<ipython-input-1-e4ce7c0a08ae>\u001b[0m in \u001b[0;36mload_data\u001b[0;34m(dir_list, image_size)\u001b[0m\n\u001b[1;32m     15\u001b[0m \u001b[0;34m\u001b[0m\u001b[0m\n\u001b[1;32m     16\u001b[0m     \u001b[0;32mfor\u001b[0m \u001b[0mdirectory\u001b[0m \u001b[0;32min\u001b[0m \u001b[0mdir_list\u001b[0m\u001b[0;34m:\u001b[0m\u001b[0;34m\u001b[0m\u001b[0;34m\u001b[0m\u001b[0m\n\u001b[0;32m---> 17\u001b[0;31m         \u001b[0;32mfor\u001b[0m \u001b[0mfilename\u001b[0m \u001b[0;32min\u001b[0m \u001b[0mlistdir\u001b[0m\u001b[0;34m(\u001b[0m\u001b[0mdirectory\u001b[0m\u001b[0;34m)\u001b[0m\u001b[0;34m:\u001b[0m\u001b[0;34m\u001b[0m\u001b[0;34m\u001b[0m\u001b[0m\n\u001b[0m\u001b[1;32m     18\u001b[0m             \u001b[0;31m# load the image\u001b[0m\u001b[0;34m\u001b[0m\u001b[0;34m\u001b[0m\u001b[0;34m\u001b[0m\u001b[0m\n\u001b[1;32m     19\u001b[0m             \u001b[0mimage\u001b[0m \u001b[0;34m=\u001b[0m \u001b[0mcv2\u001b[0m\u001b[0;34m.\u001b[0m\u001b[0mimread\u001b[0m\u001b[0;34m(\u001b[0m\u001b[0mdirectory\u001b[0m \u001b[0;34m+\u001b[0m \u001b[0;34m'\\\\'\u001b[0m \u001b[0;34m+\u001b[0m \u001b[0mfilename\u001b[0m\u001b[0;34m)\u001b[0m\u001b[0;34m\u001b[0m\u001b[0;34m\u001b[0m\u001b[0m\n",
            "\u001b[0;31mNameError\u001b[0m: name 'listdir' is not defined"
          ]
        }
      ]
    },
    {
      "cell_type": "markdown",
      "source": [
        "###SPLIT THE DATA"
      ],
      "metadata": {
        "id": "21MVXiG3jMLG"
      }
    },
    {
      "cell_type": "code",
      "source": [
        "def split_data(X, y, test_size=0.2):\n",
        "       \n",
        "    \"\"\"\n",
        "    Splits data into training, development and test sets.\n",
        "    Arguments:\n",
        "        X: A numpy array with shape = (#_examples, image_width, image_height, #_channels)\n",
        "        y: A numpy array with shape = (#_examples, 1)\n",
        "    Returns:\n",
        "        X_train: A numpy array with shape = (#_train_examples, image_width, image_height, #_channels)\n",
        "        y_train: A numpy array with shape = (#_train_examples, 1)\n",
        "        X_val: A numpy array with shape = (#_val_examples, image_width, image_height, #_channels)\n",
        "        y_val: A numpy array with shape = (#_val_examples, 1)\n",
        "        X_test: A numpy array with shape = (#_test_examples, image_width, image_height, #_channels)\n",
        "        y_test: A numpy array with shape = (#_test_examples, 1)\n",
        "    \"\"\"\n",
        "    \n",
        "    X_train, X_test_val, y_train, y_test_val = train_test_split(X, y, test_size=test_size)\n",
        "    X_test, X_val, y_test, y_val = train_test_split(X_test_val, y_test_val, test_size=0.5)\n",
        "    \n",
        "    return X_train, y_train, X_val, y_val, X_test, y_test"
      ],
      "metadata": {
        "id": "8OBWgMemjjuY"
      },
      "execution_count": null,
      "outputs": []
    },
    {
      "cell_type": "markdown",
      "source": [],
      "metadata": {
        "id": "4-xsp4o7jlr5"
      }
    },
    {
      "cell_type": "code",
      "source": [
        "X_train, y_train, X_val, y_val, X_test, y_test = split_data(X, y, test_size=0.3)"
      ],
      "metadata": {
        "id": "v9yk7GHbj1ty"
      },
      "execution_count": null,
      "outputs": []
    },
    {
      "cell_type": "code",
      "source": [
        "print (\"number of training examples = \" + str(X_train.shape[0]))\n",
        "print (\"number of development examples = \" + str(X_val.shape[0]))\n",
        "print (\"number of test examples = \" + str(X_test.shape[0]))\n",
        "print (\"X_train shape: \" + str(X_train.shape))\n",
        "print (\"Y_train shape: \" + str(y_train.shape))\n",
        "print (\"X_val (dev) shape: \" + str(X_val.shape))\n",
        "print (\"Y_val (dev) shape: \" + str(y_val.shape))\n",
        "print (\"X_test shape: \" + str(X_test.shape))\n",
        "print (\"Y_test shape: \" + str(y_test.shape))"
      ],
      "metadata": {
        "id": "pUf-E0nNkBeA"
      },
      "execution_count": null,
      "outputs": []
    },
    {
      "cell_type": "markdown",
      "source": [
        "FUNCTIONS"
      ],
      "metadata": {
        "id": "umzsI5iTkEpd"
      }
    },
    {
      "cell_type": "code",
      "source": [
        "def hms_string(sec_elapsed):\n",
        "    h = int(sec_elapsed / (60 * 60))\n",
        "    m = int((sec_elapsed % (60 * 60)) / 60)\n",
        "    s = sec_elapsed % 60\n",
        "    return f\"{h}:{m}:{round(s,1)}\""
      ],
      "metadata": {
        "id": "0LPWoLkykU-d"
      },
      "execution_count": null,
      "outputs": []
    },
    {
      "cell_type": "code",
      "source": [
        "def compute_f1_score(y_true, prob):\n",
        "    # convert the vector of probabilities to a target vector\n",
        "    y_pred = np.where(prob > 0.5, 1, 0)\n",
        "    \n",
        "    score = f1_score(y_true, y_pred)\n",
        "    \n",
        "    return score"
      ],
      "metadata": {
        "id": "feQarrF9kXCw"
      },
      "execution_count": null,
      "outputs": []
    },
    {
      "cell_type": "markdown",
      "source": [
        "#BUILD THE MODEL"
      ],
      "metadata": {
        "id": "fIluVEpQlN7w"
      }
    },
    {
      "cell_type": "code",
      "source": [
        "def build_model(input_shape):\n",
        "    \"\"\"\n",
        "    Arugments:\n",
        "        input_shape: A tuple representing the shape of the input of the model. shape=(image_width, image_height, #_channels)\n",
        "    Returns:\n",
        "        model: A Model object.\n",
        "    \"\"\"\n",
        "    # Define the input placeholder as a tensor with shape input_shape. \n",
        "    X_input = Input(input_shape) # shape=(?, 240, 240, 3)\n",
        "    \n",
        "    # Zero-Padding: pads the border of X_input with zeroes\n",
        "    X = ZeroPadding2D((2, 2))(X_input) # shape=(?, 244, 244, 3)\n",
        "    \n",
        "    # CONV -> BN -> RELU Block applied to X\n",
        "    X = Conv2D(32, (7, 7), strides = (1, 1), name = 'conv0')(X)\n",
        "    X = BatchNormalization(axis = 3, name = 'bn0')(X)\n",
        "    X = Activation('relu')(X) # shape=(?, 238, 238, 32)\n",
        "    \n",
        "    # MAXPOOL\n",
        "    X = MaxPooling2D((4, 4), name='max_pool0')(X) # shape=(?, 59, 59, 32) \n",
        "    \n",
        "    # MAXPOOL\n",
        "    X = MaxPooling2D((4, 4), name='max_pool1')(X) # shape=(?, 14, 14, 32)\n",
        "    \n",
        "    # FLATTEN X \n",
        "    X = Flatten()(X) # shape=(?, 6272)\n",
        "    # FULLYCONNECTED\n",
        "    X = Dense(1, activation='sigmoid', name='fc')(X) # shape=(?, 1)\n",
        "    \n",
        "    # Create model. This creates your Keras model instance, you'll use this instance to train/test the model.\n",
        "    model = Model(inputs = X_input, outputs = X, name='BrainDetectionModel')\n",
        "    \n",
        "    return model"
      ],
      "metadata": {
        "id": "TWhQ4L0lklgx"
      },
      "execution_count": null,
      "outputs": []
    },
    {
      "cell_type": "markdown",
      "source": [
        "DEFINE THE IMAGE SHAPE"
      ],
      "metadata": {
        "id": "xbAti8jxllGB"
      }
    },
    {
      "cell_type": "code",
      "source": [
        "IMG_SHAPE = (IMG_WIDTH, IMG_HEIGHT, 3)"
      ],
      "metadata": {
        "id": "0vnUJ0DZlo-y"
      },
      "execution_count": null,
      "outputs": []
    },
    {
      "cell_type": "code",
      "source": [
        "model = build_model(IMG_SHAPE)"
      ],
      "metadata": {
        "id": "53VXLWbDlwPl"
      },
      "execution_count": null,
      "outputs": []
    },
    {
      "cell_type": "code",
      "source": [
        "model.summary()"
      ],
      "metadata": {
        "id": "TlCaJ5wdlxgD"
      },
      "execution_count": null,
      "outputs": []
    },
    {
      "cell_type": "markdown",
      "source": [
        "COMPILE THE MODEL"
      ],
      "metadata": {
        "id": "FgvZDW6CmLkP"
      }
    },
    {
      "cell_type": "code",
      "source": [
        "model.compile(optimizer='adam', loss='binary_crossentropy', metrics=['accuracy'])"
      ],
      "metadata": {
        "id": "qHFZebVLmOx2"
      },
      "execution_count": null,
      "outputs": []
    },
    {
      "cell_type": "code",
      "source": [
        "log_file_name = f'brain_tumor_detection_cnn_{int(time.time())}'\n",
        "tensorboard = TensorBoard(log_dir=f'logs/{log_file_name}')"
      ],
      "metadata": {
        "id": "lIwhTYDUmWD6"
      },
      "execution_count": null,
      "outputs": []
    },
    {
      "cell_type": "code",
      "source": [
        "# checkpoint\n",
        "# unique file name that will include the epoch and the validation (development) accuracy\n",
        "filepath=\"cnn-parameters-improvement-{epoch:02d}-{val_acc:.2f}\"\n",
        "# save the model with the best validation (development) accuracy till now\n",
        "checkpoint = ModelCheckpoint(\"models/{}.model\".format(filepath, monitor='val_acc', verbose=1, save_best_only=True, mode='max'))"
      ],
      "metadata": {
        "id": "BmP4VEyUmn38"
      },
      "execution_count": null,
      "outputs": []
    },
    {
      "cell_type": "markdown",
      "source": [
        "TRAIN THE MODEL"
      ],
      "metadata": {
        "id": "r_eIMEYUnCbv"
      }
    },
    {
      "cell_type": "code",
      "source": [
        "start_time = time.time()\n",
        "\n",
        "model.fit(x=X_train, y=y_train, batch_size=32, epochs=10, validation_data=(X_val, y_val), callbacks=[tensorboard, checkpoint])\n",
        "\n",
        "end_time = time.time()\n",
        "execution_time = (end_time - start_time)\n",
        "print(f\"Elapsed time: {hms_string(execution_time)}\")"
      ],
      "metadata": {
        "id": "yTlL7JvDnE00"
      },
      "execution_count": null,
      "outputs": []
    },
    {
      "cell_type": "code",
      "source": [
        "start_time = time.time()\n",
        "\n",
        "model.fit(x=X_train, y=y_train, batch_size=32, epochs=3, validation_data=(X_val, y_val), callbacks=[tensorboard, checkpoint])\n",
        "\n",
        "end_time = time.time()\n",
        "execution_time = (end_time - start_time)\n",
        "print(f\"Elapsed time: {hms_string(execution_time)}\")"
      ],
      "metadata": {
        "id": "wrurMDkCnUqX"
      },
      "execution_count": null,
      "outputs": []
    },
    {
      "cell_type": "code",
      "source": [
        "start_time = time.time()\n",
        "\n",
        "model.fit(x=X_train, y=y_train, batch_size=32, epochs=3, validation_data=(X_val, y_val), callbacks=[tensorboard, checkpoint])\n",
        "\n",
        "end_time = time.time()\n",
        "execution_time = (end_time - start_time)\n",
        "print(f\"Elapsed time: {hms_string(execution_time)}\")\n",
        "\n"
      ],
      "metadata": {
        "id": "D-rqP9sCs1z8"
      },
      "execution_count": null,
      "outputs": []
    },
    {
      "cell_type": "markdown",
      "source": [
        "HISTORY OF MODELS"
      ],
      "metadata": {
        "id": "5sikKK0NtNmI"
      }
    },
    {
      "cell_type": "code",
      "source": [
        "history = model.history.history"
      ],
      "metadata": {
        "id": "8DxWcJOMtSE2"
      },
      "execution_count": null,
      "outputs": []
    },
    {
      "cell_type": "code",
      "source": [
        "for key in history.keys():\n",
        "    print(key)"
      ],
      "metadata": {
        "id": "6ACP74G2tTQm"
      },
      "execution_count": null,
      "outputs": []
    },
    {
      "cell_type": "markdown",
      "source": [
        "PLOT LOSS\n",
        "    "
      ],
      "metadata": {
        "id": "3Zpak4KDtEjw"
      }
    },
    {
      "cell_type": "code",
      "source": [
        "def plot_metrics(history):\n",
        "    \n",
        "    train_loss = history['loss']\n",
        "    val_loss = history['val_loss']\n",
        "    train_acc = history['acc']\n",
        "    val_acc = history['val_acc']\n",
        "    \n",
        "    # Loss\n",
        "    plt.figure()\n",
        "    plt.plot(train_loss, label='Training Loss')\n",
        "    plt.plot(val_loss, label='Validation Loss')\n",
        "    plt.title('Loss')\n",
        "    plt.legend()\n",
        "    plt.show()\n",
        "    \n",
        "    # Accuracy\n",
        "    plt.figure()\n",
        "    plt.plot(train_acc, label='Training Accuracy')\n",
        "    plt.plot(val_acc, label='Validation Accuracy')\n",
        "    plt.title('Accuracy')\n",
        "    plt.legend()\n",
        "    plt.show()"
      ],
      "metadata": {
        "id": "KfmedaeluQ3k"
      },
      "execution_count": null,
      "outputs": []
    },
    {
      "cell_type": "code",
      "source": [
        "plot_metrics(history) "
      ],
      "metadata": {
        "id": "2sRy4VYwutFj"
      },
      "execution_count": null,
      "outputs": []
    },
    {
      "cell_type": "markdown",
      "source": [
        "#RESULTS"
      ],
      "metadata": {
        "id": "jeyrREZtvw7v"
      }
    },
    {
      "cell_type": "code",
      "source": [
        "best_model = load_model(filepath='models/cnn-parameters-improvement-23-0.91.model')"
      ],
      "metadata": {
        "id": "_J0308KPvntm"
      },
      "execution_count": null,
      "outputs": []
    },
    {
      "cell_type": "code",
      "source": [
        "best_model.metrics_names"
      ],
      "metadata": {
        "id": "w1iKPT8zv1-Z"
      },
      "execution_count": null,
      "outputs": []
    },
    {
      "cell_type": "markdown",
      "source": [
        "EVALUATE THE BEST MODEL"
      ],
      "metadata": {
        "id": "60HzwehQwH6z"
      }
    },
    {
      "cell_type": "code",
      "source": [
        "loss, acc = best_model.evaluate(x=X_test, y=y_test)"
      ],
      "metadata": {
        "id": "6yFd4iR9wAPJ"
      },
      "execution_count": null,
      "outputs": []
    },
    {
      "cell_type": "markdown",
      "source": [
        "ACCURACY AND LOSS"
      ],
      "metadata": {
        "id": "3LG_m7ur-qlc"
      }
    },
    {
      "cell_type": "code",
      "source": [
        "print (f\"Test Loss = {loss}\")\n",
        "print (f\"Test Accuracy = {acc}\")"
      ],
      "metadata": {
        "id": "geM-qh8_-c8k"
      },
      "execution_count": null,
      "outputs": []
    },
    {
      "cell_type": "markdown",
      "source": [
        "F1 SCORE"
      ],
      "metadata": {
        "id": "gsP0X1xP-m3s"
      }
    },
    {
      "cell_type": "code",
      "source": [
        "y_test_prob = best_model.predict(X_test)"
      ],
      "metadata": {
        "id": "zpkXrhoK-5ih"
      },
      "execution_count": null,
      "outputs": []
    },
    {
      "cell_type": "code",
      "source": [
        "new_image = best_model.predict('insert image')"
      ],
      "metadata": {
        "id": "9F473koIJkL7"
      },
      "execution_count": null,
      "outputs": []
    }
  ]
}